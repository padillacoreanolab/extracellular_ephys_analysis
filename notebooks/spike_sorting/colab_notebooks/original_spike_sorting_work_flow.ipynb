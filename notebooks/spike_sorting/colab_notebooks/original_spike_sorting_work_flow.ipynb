{
  "cells": [
    {
      "cell_type": "code",
      "execution_count": 3,
      "metadata": {
        "id": "7wzq3fpH4yDa"
      },
      "outputs": [],
      "source": [
        "%matplotlib inline"
      ]
    },
    {
      "cell_type": "markdown",
      "metadata": {
        "id": "-BJqbqIg4yDe"
      },
      "source": [
        "# Preprocessing and Spike Sorting Tutorial"
      ]
    },
    {
      "cell_type": "markdown",
      "source": [
        "Steps to make Google Colab not time out due to inactivity(based on https://stackoverflow.com/questions/54057011/google-colab-session-timeout):\n",
        "\n",
        "Open the inspector view by typing Ctrl+ Shift + i and then clicking on console tab at top.\n",
        "Paste the below code snippet at bottom of console and hit enter\n",
        "```\n",
        "function ClickConnect(){\n",
        "console.log(\"Working\"); \n",
        "document.querySelector(\"#top-toolbar > colab-connect-button\").shadowRoot.querySelector(\"#connect\").click();\n",
        "}\n",
        "setInterval(ClickConnect,60000)\n",
        "```"
      ],
      "metadata": {
        "id": "-_VwnBl3Qd5_"
      }
    },
    {
      "cell_type": "markdown",
      "metadata": {
        "id": "sBTXjWGD4yDg"
      },
      "source": [
        "# Chapter 1: Importing Recording Data and Metadata"
      ]
    },
    {
      "cell_type": "code",
      "execution_count": 4,
      "metadata": {
        "id": "CjuqPH-FBp0K"
      },
      "outputs": [],
      "source": [
        "import subprocess"
      ]
    },
    {
      "cell_type": "markdown",
      "metadata": {
        "id": "2PRfEUsB7lkC"
      },
      "source": [
        "## Part 0: Importing Data"
      ]
    },
    {
      "cell_type": "markdown",
      "metadata": {
        "id": "0odnURlC-MpI"
      },
      "source": [
        "- Upload your recording and probe geometry file to Dropbox(Make sure that it is publicly accessible). "
      ]
    },
    {
      "cell_type": "markdown",
      "metadata": {
        "id": "tzHQCaqL-_NA"
      },
      "source": [
        "# NOTE: Change the name of the URL if you are using a different file\n",
        "  - Make sure that the file is accessible to everyone(not just UFL members)"
      ]
    },
    {
      "cell_type": "code",
      "execution_count": 3,
      "metadata": {
        "id": "YIp9iDst_HRZ"
      },
      "outputs": [],
      "source": [
        "recording_drop_box_address = \"https://www.dropbox.com/s/bl7834h2va822qe/20221219_124942_6_1_novel_merged.rec?dl=0\"\n",
        "probe_drop_box_address = \"https://www.dropbox.com/s/31beqhiwa99yrse/nancyprobe_linearprobelargespace.prb?dl=0\""
      ]
    },
    {
      "cell_type": "markdown",
      "metadata": {
        "id": "drGBKdFI_xLN"
      },
      "source": [
        "- Getting the file name from the Dropbox file"
      ]
    },
    {
      "cell_type": "code",
      "execution_count": 4,
      "metadata": {
        "id": "pV6lhWMo_PcJ"
      },
      "outputs": [],
      "source": [
        "recording_file_name = recording_drop_box_address.rsplit('/', 1)[-1].split(\"?\")[0]\n",
        "probe_file_name = probe_drop_box_address.rsplit('/', 1)[-1].split(\"?\")[0]"
      ]
    },
    {
      "cell_type": "markdown",
      "metadata": {
        "id": "DzJfya_I_2Uw"
      },
      "source": [
        "- Downloading the recording file from Dropbox to Google Colab"
      ]
    },
    {
      "cell_type": "code",
      "execution_count": 5,
      "metadata": {
        "colab": {
          "base_uri": "https://localhost:8080/"
        },
        "id": "r72OfcjE8_AJ",
        "outputId": "5802785f-7c3e-42cc-f60a-d4238a9dda52"
      },
      "outputs": [
        {
          "output_type": "execute_result",
          "data": {
            "text/plain": [
              "CompletedProcess(args='wget -O 20221219_124942_6_1_novel_merged.rec https://www.dropbox.com/s/bl7834h2va822qe/20221219_124942_6_1_novel_merged.rec?dl=0', returncode=0)"
            ]
          },
          "metadata": {},
          "execution_count": 5
        }
      ],
      "source": [
        "subprocess.run(\"wget -O {} {}\".format(recording_file_name, recording_drop_box_address), shell=True)"
      ]
    },
    {
      "cell_type": "code",
      "execution_count": 6,
      "metadata": {
        "colab": {
          "base_uri": "https://localhost:8080/"
        },
        "id": "WPQUXHoOAfY7",
        "outputId": "0418b800-3b51-4e43-9efe-6a4a21ac0abb"
      },
      "outputs": [
        {
          "output_type": "execute_result",
          "data": {
            "text/plain": [
              "CompletedProcess(args='wget -O nancyprobe_linearprobelargespace.prb https://www.dropbox.com/s/31beqhiwa99yrse/nancyprobe_linearprobelargespace.prb?dl=0', returncode=0)"
            ]
          },
          "metadata": {},
          "execution_count": 6
        }
      ],
      "source": [
        "subprocess.run(\"wget -O {} {}\".format(probe_file_name, probe_drop_box_address), shell=True)"
      ]
    },
    {
      "cell_type": "markdown",
      "metadata": {
        "id": "FsnFAaEC4_2R"
      },
      "source": [
        "## Part 1: Installing libraries"
      ]
    },
    {
      "cell_type": "code",
      "source": [
        "%pip install -U dask"
      ],
      "metadata": {
        "colab": {
          "base_uri": "https://localhost:8080/"
        },
        "id": "vcZIbrOKX9aN",
        "outputId": "8b3f0747-ca84-4f53-e91a-a3ba3ca9073f"
      },
      "execution_count": 7,
      "outputs": [
        {
          "output_type": "stream",
          "name": "stdout",
          "text": [
            "Looking in indexes: https://pypi.org/simple, https://us-python.pkg.dev/colab-wheels/public/simple/\n",
            "Requirement already satisfied: dask in /usr/local/lib/python3.9/dist-packages (2023.3.1)\n",
            "Requirement already satisfied: cloudpickle>=1.1.1 in /usr/local/lib/python3.9/dist-packages (from dask) (2.2.1)\n",
            "Requirement already satisfied: click>=7.0 in /usr/local/lib/python3.9/dist-packages (from dask) (8.1.3)\n",
            "Requirement already satisfied: packaging>=20.0 in /usr/local/lib/python3.9/dist-packages (from dask) (23.0)\n",
            "Requirement already satisfied: toolz>=0.8.2 in /usr/local/lib/python3.9/dist-packages (from dask) (0.12.0)\n",
            "Requirement already satisfied: partd>=1.2.0 in /usr/local/lib/python3.9/dist-packages (from dask) (1.3.0)\n",
            "Requirement already satisfied: pyyaml>=5.3.1 in /usr/local/lib/python3.9/dist-packages (from dask) (6.0)\n",
            "Requirement already satisfied: fsspec>=0.6.0 in /usr/local/lib/python3.9/dist-packages (from dask) (2023.3.0)\n",
            "Requirement already satisfied: locket in /usr/local/lib/python3.9/dist-packages (from partd>=1.2.0->dask) (1.0.0)\n"
          ]
        }
      ]
    },
    {
      "cell_type": "code",
      "source": [
        "%pip install dask_bigquery"
      ],
      "metadata": {
        "colab": {
          "base_uri": "https://localhost:8080/"
        },
        "id": "PZchWb_7pwZB",
        "outputId": "1335ceba-0006-4c81-eb88-61d44e426d78"
      },
      "execution_count": 8,
      "outputs": [
        {
          "output_type": "stream",
          "name": "stdout",
          "text": [
            "Looking in indexes: https://pypi.org/simple, https://us-python.pkg.dev/colab-wheels/public/simple/\n",
            "Requirement already satisfied: dask_bigquery in /usr/local/lib/python3.9/dist-packages (2022.5.0)\n",
            "Requirement already satisfied: pyarrow in /usr/local/lib/python3.9/dist-packages (from dask_bigquery) (9.0.0)\n",
            "Requirement already satisfied: pandas in /usr/local/lib/python3.9/dist-packages (from dask_bigquery) (1.4.4)\n",
            "Requirement already satisfied: google-cloud-bigquery-storage in /usr/local/lib/python3.9/dist-packages (from dask_bigquery) (2.19.0)\n",
            "Requirement already satisfied: dask in /usr/local/lib/python3.9/dist-packages (from dask_bigquery) (2023.3.1)\n",
            "Requirement already satisfied: google-cloud-bigquery>=2.11.0 in /usr/local/lib/python3.9/dist-packages (from dask_bigquery) (3.4.2)\n",
            "Requirement already satisfied: google-api-core[grpc]!=2.0.*,!=2.1.*,!=2.2.*,!=2.3.0,<3.0.0dev,>=1.31.5 in /usr/local/lib/python3.9/dist-packages (from google-cloud-bigquery>=2.11.0->dask_bigquery) (2.11.0)\n",
            "Requirement already satisfied: protobuf!=3.20.0,!=3.20.1,!=4.21.0,!=4.21.1,!=4.21.2,!=4.21.3,!=4.21.4,!=4.21.5,<5.0.0dev,>=3.19.5 in /usr/local/lib/python3.9/dist-packages (from google-cloud-bigquery>=2.11.0->dask_bigquery) (3.19.6)\n",
            "Requirement already satisfied: python-dateutil<3.0dev,>=2.7.2 in /usr/local/lib/python3.9/dist-packages (from google-cloud-bigquery>=2.11.0->dask_bigquery) (2.8.2)\n",
            "Requirement already satisfied: proto-plus<2.0.0dev,>=1.15.0 in /usr/local/lib/python3.9/dist-packages (from google-cloud-bigquery>=2.11.0->dask_bigquery) (1.22.2)\n",
            "Requirement already satisfied: grpcio<2.0dev,>=1.47.0 in /usr/local/lib/python3.9/dist-packages (from google-cloud-bigquery>=2.11.0->dask_bigquery) (1.51.3)\n",
            "Requirement already satisfied: requests<3.0.0dev,>=2.21.0 in /usr/local/lib/python3.9/dist-packages (from google-cloud-bigquery>=2.11.0->dask_bigquery) (2.27.1)\n",
            "Requirement already satisfied: google-cloud-core<3.0.0dev,>=1.4.1 in /usr/local/lib/python3.9/dist-packages (from google-cloud-bigquery>=2.11.0->dask_bigquery) (2.3.2)\n",
            "Requirement already satisfied: google-resumable-media<3.0dev,>=0.6.0 in /usr/local/lib/python3.9/dist-packages (from google-cloud-bigquery>=2.11.0->dask_bigquery) (2.4.1)\n",
            "Requirement already satisfied: packaging>=20.0.0 in /usr/local/lib/python3.9/dist-packages (from google-cloud-bigquery>=2.11.0->dask_bigquery) (23.0)\n",
            "Requirement already satisfied: cloudpickle>=1.1.1 in /usr/local/lib/python3.9/dist-packages (from dask->dask_bigquery) (2.2.1)\n",
            "Requirement already satisfied: partd>=1.2.0 in /usr/local/lib/python3.9/dist-packages (from dask->dask_bigquery) (1.3.0)\n",
            "Requirement already satisfied: toolz>=0.8.2 in /usr/local/lib/python3.9/dist-packages (from dask->dask_bigquery) (0.12.0)\n",
            "Requirement already satisfied: click>=7.0 in /usr/local/lib/python3.9/dist-packages (from dask->dask_bigquery) (8.1.3)\n",
            "Requirement already satisfied: pyyaml>=5.3.1 in /usr/local/lib/python3.9/dist-packages (from dask->dask_bigquery) (6.0)\n",
            "Requirement already satisfied: fsspec>=0.6.0 in /usr/local/lib/python3.9/dist-packages (from dask->dask_bigquery) (2023.3.0)\n",
            "Requirement already satisfied: numpy>=1.18.5 in /usr/local/lib/python3.9/dist-packages (from pandas->dask_bigquery) (1.20.0)\n",
            "Requirement already satisfied: pytz>=2020.1 in /usr/local/lib/python3.9/dist-packages (from pandas->dask_bigquery) (2022.7.1)\n",
            "Requirement already satisfied: google-auth<3.0dev,>=2.14.1 in /usr/local/lib/python3.9/dist-packages (from google-api-core[grpc]!=2.0.*,!=2.1.*,!=2.2.*,!=2.3.0,<3.0.0dev,>=1.31.5->google-cloud-bigquery>=2.11.0->dask_bigquery) (2.16.2)\n",
            "Requirement already satisfied: googleapis-common-protos<2.0dev,>=1.56.2 in /usr/local/lib/python3.9/dist-packages (from google-api-core[grpc]!=2.0.*,!=2.1.*,!=2.2.*,!=2.3.0,<3.0.0dev,>=1.31.5->google-cloud-bigquery>=2.11.0->dask_bigquery) (1.58.0)\n",
            "Requirement already satisfied: grpcio-status<2.0dev,>=1.33.2 in /usr/local/lib/python3.9/dist-packages (from google-api-core[grpc]!=2.0.*,!=2.1.*,!=2.2.*,!=2.3.0,<3.0.0dev,>=1.31.5->google-cloud-bigquery>=2.11.0->dask_bigquery) (1.48.2)\n",
            "Requirement already satisfied: google-crc32c<2.0dev,>=1.0 in /usr/local/lib/python3.9/dist-packages (from google-resumable-media<3.0dev,>=0.6.0->google-cloud-bigquery>=2.11.0->dask_bigquery) (1.5.0)\n",
            "Requirement already satisfied: locket in /usr/local/lib/python3.9/dist-packages (from partd>=1.2.0->dask->dask_bigquery) (1.0.0)\n",
            "Requirement already satisfied: six>=1.5 in /usr/local/lib/python3.9/dist-packages (from python-dateutil<3.0dev,>=2.7.2->google-cloud-bigquery>=2.11.0->dask_bigquery) (1.16.0)\n",
            "Requirement already satisfied: certifi>=2017.4.17 in /usr/local/lib/python3.9/dist-packages (from requests<3.0.0dev,>=2.21.0->google-cloud-bigquery>=2.11.0->dask_bigquery) (2022.12.7)\n",
            "Requirement already satisfied: urllib3<1.27,>=1.21.1 in /usr/local/lib/python3.9/dist-packages (from requests<3.0.0dev,>=2.21.0->google-cloud-bigquery>=2.11.0->dask_bigquery) (1.26.15)\n",
            "Requirement already satisfied: charset-normalizer~=2.0.0 in /usr/local/lib/python3.9/dist-packages (from requests<3.0.0dev,>=2.21.0->google-cloud-bigquery>=2.11.0->dask_bigquery) (2.0.12)\n",
            "Requirement already satisfied: idna<4,>=2.5 in /usr/local/lib/python3.9/dist-packages (from requests<3.0.0dev,>=2.21.0->google-cloud-bigquery>=2.11.0->dask_bigquery) (3.4)\n",
            "Requirement already satisfied: rsa<5,>=3.1.4 in /usr/local/lib/python3.9/dist-packages (from google-auth<3.0dev,>=2.14.1->google-api-core[grpc]!=2.0.*,!=2.1.*,!=2.2.*,!=2.3.0,<3.0.0dev,>=1.31.5->google-cloud-bigquery>=2.11.0->dask_bigquery) (4.9)\n",
            "Requirement already satisfied: cachetools<6.0,>=2.0.0 in /usr/local/lib/python3.9/dist-packages (from google-auth<3.0dev,>=2.14.1->google-api-core[grpc]!=2.0.*,!=2.1.*,!=2.2.*,!=2.3.0,<3.0.0dev,>=1.31.5->google-cloud-bigquery>=2.11.0->dask_bigquery) (5.3.0)\n",
            "Requirement already satisfied: pyasn1-modules>=0.2.1 in /usr/local/lib/python3.9/dist-packages (from google-auth<3.0dev,>=2.14.1->google-api-core[grpc]!=2.0.*,!=2.1.*,!=2.2.*,!=2.3.0,<3.0.0dev,>=1.31.5->google-cloud-bigquery>=2.11.0->dask_bigquery) (0.2.8)\n",
            "Requirement already satisfied: pyasn1<0.5.0,>=0.4.6 in /usr/local/lib/python3.9/dist-packages (from pyasn1-modules>=0.2.1->google-auth<3.0dev,>=2.14.1->google-api-core[grpc]!=2.0.*,!=2.1.*,!=2.2.*,!=2.3.0,<3.0.0dev,>=1.31.5->google-cloud-bigquery>=2.11.0->dask_bigquery) (0.4.8)\n"
          ]
        }
      ]
    },
    {
      "cell_type": "code",
      "execution_count": 9,
      "metadata": {
        "colab": {
          "base_uri": "https://localhost:8080/"
        },
        "id": "BOu-Gn1a5Jit",
        "outputId": "31a717ed-10ad-4e47-a9f0-e37a11a9b617"
      },
      "outputs": [
        {
          "output_type": "stream",
          "name": "stdout",
          "text": [
            "Looking in indexes: https://pypi.org/simple, https://us-python.pkg.dev/colab-wheels/public/simple/\n",
            "Requirement already satisfied: spikeinterface[full]==0.97.1 in /usr/local/lib/python3.9/dist-packages (0.97.1)\n",
            "Requirement already satisfied: threadpoolctl in /usr/local/lib/python3.9/dist-packages (from spikeinterface[full]==0.97.1) (3.1.0)\n",
            "Requirement already satisfied: tqdm in /usr/local/lib/python3.9/dist-packages (from spikeinterface[full]==0.97.1) (4.65.0)\n",
            "Requirement already satisfied: numpy in /usr/local/lib/python3.9/dist-packages (from spikeinterface[full]==0.97.1) (1.20.0)\n",
            "Requirement already satisfied: neo>=0.11.1 in /usr/local/lib/python3.9/dist-packages (from spikeinterface[full]==0.97.1) (0.12.0)\n",
            "Requirement already satisfied: joblib in /usr/local/lib/python3.9/dist-packages (from spikeinterface[full]==0.97.1) (1.1.1)\n",
            "Requirement already satisfied: probeinterface>=0.2.16 in /usr/local/lib/python3.9/dist-packages (from spikeinterface[full]==0.97.1) (0.2.16)\n",
            "Requirement already satisfied: pandas in /usr/local/lib/python3.9/dist-packages (from spikeinterface[full]==0.97.1) (1.4.4)\n",
            "Requirement already satisfied: h5py in /usr/local/lib/python3.9/dist-packages (from spikeinterface[full]==0.97.1) (3.8.0)\n",
            "Requirement already satisfied: scipy in /usr/local/lib/python3.9/dist-packages (from spikeinterface[full]==0.97.1) (1.10.1)\n",
            "Requirement already satisfied: xarray in /usr/local/lib/python3.9/dist-packages (from spikeinterface[full]==0.97.1) (2022.12.0)\n",
            "Requirement already satisfied: cuda-python in /usr/local/lib/python3.9/dist-packages (from spikeinterface[full]==0.97.1) (12.1.0)\n",
            "Requirement already satisfied: networkx in /usr/local/lib/python3.9/dist-packages (from spikeinterface[full]==0.97.1) (3.0)\n",
            "Requirement already satisfied: matplotlib in /usr/local/lib/python3.9/dist-packages (from spikeinterface[full]==0.97.1) (3.7.1)\n",
            "Requirement already satisfied: scikit-learn in /usr/local/lib/python3.9/dist-packages (from spikeinterface[full]==0.97.1) (1.2.2)\n",
            "Requirement already satisfied: zarr in /usr/local/lib/python3.9/dist-packages (from spikeinterface[full]==0.97.1) (2.14.2)\n",
            "Requirement already satisfied: distinctipy in /usr/local/lib/python3.9/dist-packages (from spikeinterface[full]==0.97.1) (1.2.2)\n",
            "Requirement already satisfied: packaging in /usr/local/lib/python3.9/dist-packages (from neo>=0.11.1->spikeinterface[full]==0.97.1) (23.0)\n",
            "Requirement already satisfied: quantities>=0.14.1 in /usr/local/lib/python3.9/dist-packages (from neo>=0.11.1->spikeinterface[full]==0.97.1) (0.14.1)\n",
            "Requirement already satisfied: cython in /usr/local/lib/python3.9/dist-packages (from cuda-python->spikeinterface[full]==0.97.1) (0.29.33)\n",
            "Requirement already satisfied: kiwisolver>=1.0.1 in /usr/local/lib/python3.9/dist-packages (from matplotlib->spikeinterface[full]==0.97.1) (1.4.4)\n",
            "Requirement already satisfied: contourpy>=1.0.1 in /usr/local/lib/python3.9/dist-packages (from matplotlib->spikeinterface[full]==0.97.1) (1.0.7)\n",
            "Requirement already satisfied: python-dateutil>=2.7 in /usr/local/lib/python3.9/dist-packages (from matplotlib->spikeinterface[full]==0.97.1) (2.8.2)\n",
            "Requirement already satisfied: pillow>=6.2.0 in /usr/local/lib/python3.9/dist-packages (from matplotlib->spikeinterface[full]==0.97.1) (8.4.0)\n",
            "Requirement already satisfied: cycler>=0.10 in /usr/local/lib/python3.9/dist-packages (from matplotlib->spikeinterface[full]==0.97.1) (0.11.0)\n",
            "Requirement already satisfied: importlib-resources>=3.2.0 in /usr/local/lib/python3.9/dist-packages (from matplotlib->spikeinterface[full]==0.97.1) (5.12.0)\n",
            "Requirement already satisfied: fonttools>=4.22.0 in /usr/local/lib/python3.9/dist-packages (from matplotlib->spikeinterface[full]==0.97.1) (4.39.2)\n",
            "Requirement already satisfied: pyparsing>=2.3.1 in /usr/local/lib/python3.9/dist-packages (from matplotlib->spikeinterface[full]==0.97.1) (3.0.9)\n",
            "Requirement already satisfied: pytz>=2020.1 in /usr/local/lib/python3.9/dist-packages (from pandas->spikeinterface[full]==0.97.1) (2022.7.1)\n",
            "Requirement already satisfied: numcodecs>=0.10.0 in /usr/local/lib/python3.9/dist-packages (from zarr->spikeinterface[full]==0.97.1) (0.11.0)\n",
            "Requirement already satisfied: fasteners in /usr/local/lib/python3.9/dist-packages (from zarr->spikeinterface[full]==0.97.1) (0.18)\n",
            "Requirement already satisfied: asciitree in /usr/local/lib/python3.9/dist-packages (from zarr->spikeinterface[full]==0.97.1) (0.3.3)\n",
            "Requirement already satisfied: zipp>=3.1.0 in /usr/local/lib/python3.9/dist-packages (from importlib-resources>=3.2.0->matplotlib->spikeinterface[full]==0.97.1) (3.15.0)\n",
            "Requirement already satisfied: entrypoints in /usr/local/lib/python3.9/dist-packages (from numcodecs>=0.10.0->zarr->spikeinterface[full]==0.97.1) (0.4)\n",
            "Requirement already satisfied: six>=1.5 in /usr/local/lib/python3.9/dist-packages (from python-dateutil>=2.7->matplotlib->spikeinterface[full]==0.97.1) (1.16.0)\n"
          ]
        }
      ],
      "source": [
        "# Installing Spike Interface\n",
        "%pip install spikeinterface[full]==0.97.1"
      ]
    },
    {
      "cell_type": "markdown",
      "source": [
        "- You can ignore the `ERROR: Failed building wheel for isosplit5`"
      ],
      "metadata": {
        "id": "_mRdq_nHjuBG"
      }
    },
    {
      "cell_type": "code",
      "source": [
        "%pip install isosplit5==0.1.3"
      ],
      "metadata": {
        "colab": {
          "base_uri": "https://localhost:8080/"
        },
        "id": "Z_kTn-qtSKem",
        "outputId": "794d4c2f-0640-4509-db5d-86f82b825728"
      },
      "execution_count": 10,
      "outputs": [
        {
          "output_type": "stream",
          "name": "stdout",
          "text": [
            "Looking in indexes: https://pypi.org/simple, https://us-python.pkg.dev/colab-wheels/public/simple/\n",
            "Requirement already satisfied: isosplit5==0.1.3 in /usr/local/lib/python3.9/dist-packages (0.1.3)\n",
            "Requirement already satisfied: numpy in /usr/local/lib/python3.9/dist-packages (from isosplit5==0.1.3) (1.20.0)\n",
            "Requirement already satisfied: pybind11>=2.2 in /usr/local/lib/python3.9/dist-packages (from isosplit5==0.1.3) (2.10.4)\n"
          ]
        }
      ]
    },
    {
      "cell_type": "code",
      "execution_count": 11,
      "metadata": {
        "colab": {
          "base_uri": "https://localhost:8080/"
        },
        "id": "P32meU4y6_zF",
        "outputId": "a843b66e-c988-4f78-feaa-df74e86d9046"
      },
      "outputs": [
        {
          "output_type": "stream",
          "name": "stdout",
          "text": [
            "Looking in indexes: https://pypi.org/simple, https://us-python.pkg.dev/colab-wheels/public/simple/\n",
            "Requirement already satisfied: mountainsort4==1.0.3 in /usr/local/lib/python3.9/dist-packages (1.0.3)\n",
            "Requirement already satisfied: isosplit5==0.1.3 in /usr/local/lib/python3.9/dist-packages (from mountainsort4==1.0.3) (0.1.3)\n",
            "Requirement already satisfied: dask in /usr/local/lib/python3.9/dist-packages (from mountainsort4==1.0.3) (2023.3.1)\n",
            "Requirement already satisfied: sklearn in /usr/local/lib/python3.9/dist-packages (from mountainsort4==1.0.3) (0.0.post1)\n",
            "Requirement already satisfied: spikeextractors>=0.9.5 in /usr/local/lib/python3.9/dist-packages (from mountainsort4==1.0.3) (0.9.11)\n",
            "Requirement already satisfied: pybind11 in /usr/local/lib/python3.9/dist-packages (from mountainsort4==1.0.3) (2.10.4)\n",
            "Requirement already satisfied: h5py in /usr/local/lib/python3.9/dist-packages (from mountainsort4==1.0.3) (3.8.0)\n",
            "Requirement already satisfied: numpy in /usr/local/lib/python3.9/dist-packages (from mountainsort4==1.0.3) (1.20.0)\n",
            "Requirement already satisfied: tqdm in /usr/local/lib/python3.9/dist-packages (from spikeextractors>=0.9.5->mountainsort4==1.0.3) (4.65.0)\n",
            "Requirement already satisfied: joblib in /usr/local/lib/python3.9/dist-packages (from spikeextractors>=0.9.5->mountainsort4==1.0.3) (1.1.1)\n",
            "Requirement already satisfied: cloudpickle>=1.1.1 in /usr/local/lib/python3.9/dist-packages (from dask->mountainsort4==1.0.3) (2.2.1)\n",
            "Requirement already satisfied: toolz>=0.8.2 in /usr/local/lib/python3.9/dist-packages (from dask->mountainsort4==1.0.3) (0.12.0)\n",
            "Requirement already satisfied: packaging>=20.0 in /usr/local/lib/python3.9/dist-packages (from dask->mountainsort4==1.0.3) (23.0)\n",
            "Requirement already satisfied: click>=7.0 in /usr/local/lib/python3.9/dist-packages (from dask->mountainsort4==1.0.3) (8.1.3)\n",
            "Requirement already satisfied: partd>=1.2.0 in /usr/local/lib/python3.9/dist-packages (from dask->mountainsort4==1.0.3) (1.3.0)\n",
            "Requirement already satisfied: pyyaml>=5.3.1 in /usr/local/lib/python3.9/dist-packages (from dask->mountainsort4==1.0.3) (6.0)\n",
            "Requirement already satisfied: fsspec>=0.6.0 in /usr/local/lib/python3.9/dist-packages (from dask->mountainsort4==1.0.3) (2023.3.0)\n",
            "Requirement already satisfied: locket in /usr/local/lib/python3.9/dist-packages (from partd>=1.2.0->dask->mountainsort4==1.0.3) (1.0.0)\n"
          ]
        }
      ],
      "source": [
        "# Installing sorters\n",
        "%pip install mountainsort4==1.0.3"
      ]
    },
    {
      "cell_type": "markdown",
      "metadata": {
        "id": "0lwjv4Hd5emf"
      },
      "source": [
        "## Part 2: Importing Preinstalled Libraries"
      ]
    },
    {
      "cell_type": "code",
      "execution_count": 6,
      "metadata": {
        "id": "_s_H00Tk4yDg"
      },
      "outputs": [],
      "source": [
        "import os\n",
        "import glob\n",
        "from pathlib import Path\n",
        "from collections import defaultdict\n",
        "import pickle\n",
        "import imp\n",
        "import datetime\n",
        "import time\n",
        "import multiprocessing\n",
        "import dask"
      ]
    },
    {
      "cell_type": "code",
      "execution_count": 7,
      "metadata": {
        "id": "m1S3ORsP4yDi"
      },
      "outputs": [],
      "source": [
        "import numpy as np\n",
        "import matplotlib.pyplot as plt"
      ]
    },
    {
      "cell_type": "code",
      "execution_count": 8,
      "metadata": {
        "id": "6hrNnNNi4yDi"
      },
      "outputs": [],
      "source": [
        "# Changing the figure size\n",
        "from matplotlib.pyplot import figure\n",
        "\n",
        "# Increase size of plot in jupyter\n",
        "plt.rcParams[\"figure.figsize\"] = (10,6)"
      ]
    },
    {
      "cell_type": "markdown",
      "metadata": {
        "id": "UzBkLEot4yDk"
      },
      "source": [
        "We need to import one by one different submodules separately (preferred).\n",
        "There are 5 modules:\n",
        "\n",
        "- :code:`extractors` : file IO\n",
        "- :code:`toolkit` : processing toolkit for pre-, post-processing, validation, and automatic curation\n",
        "- :code:`sorters` : Python wrappers of spike sorters\n",
        "- :code:`comparison` : comparison of spike sorting output\n",
        "- :code:`widgets` : visualization\n",
        "\n"
      ]
    },
    {
      "cell_type": "code",
      "execution_count": 9,
      "metadata": {
        "id": "2CKDhHtT4yDl"
      },
      "outputs": [],
      "source": [
        "import spikeinterface as si  # import core only\n",
        "import spikeinterface.extractors as se\n",
        "import spikeinterface.sorters as ss\n",
        "import spikeinterface.comparison as sc\n",
        "import spikeinterface.widgets as sw\n",
        "import spikeinterface.preprocessing as sp\n",
        "from spikeinterface import WaveformExtractor, extract_waveforms"
      ]
    },
    {
      "cell_type": "code",
      "execution_count": 10,
      "metadata": {
        "id": "gtPizuT44yDl"
      },
      "outputs": [],
      "source": [
        "import spikeinterface.core"
      ]
    },
    {
      "cell_type": "markdown",
      "metadata": {
        "id": "aAylTQG-4yDm"
      },
      "source": [
        "We can also import all submodules at once with this\n",
        "  this internally import core+extractors+toolkit+sorters+comparison+widgets+exporters\n",
        "\n",
        "This is useful for notebooks but this is a more heavy import because internally many more dependency\n",
        "are imported (scipy/sklearn/networkx/matplotlib/h5py...)\n",
        "\n"
      ]
    },
    {
      "cell_type": "code",
      "source": [
        "from probeinterface import get_probe\n",
        "from probeinterface.plotting import plot_probe, plot_probe_group\n",
        "from probeinterface import write_prb, read_prb"
      ],
      "metadata": {
        "id": "gvw2tlDclCXy"
      },
      "execution_count": 11,
      "outputs": []
    },
    {
      "cell_type": "code",
      "source": [
        "from spikeinterface.exporters import export_to_phy"
      ],
      "metadata": {
        "id": "pZmg-nFTtVvr"
      },
      "execution_count": 12,
      "outputs": []
    },
    {
      "cell_type": "markdown",
      "metadata": {
        "id": "vJfKmxSq4yDn"
      },
      "source": [
        "# Part 3: Looking over Raw Ephys Recording"
      ]
    },
    {
      "cell_type": "markdown",
      "metadata": {
        "id": "B0BaMSJa4yDn"
      },
      "source": [
        "## Loading in the Electrophysiology Recording"
      ]
    },
    {
      "cell_type": "markdown",
      "metadata": {
        "id": "Y2oq8sdN4yDn"
      },
      "source": [
        "- Please look at this website to see which importing method matches your data format. https://spikeinterface.readthedocs.io/en/latest/modules/extractors/plot_1_read_various_formats.html#sphx-glr-modules-extractors-plot-1-read-various-formats-py\n",
        "- You can also try tab completing `se.read_` and see what other electrophysiology data formats are accepted\n",
        "    - All the different options for importing electrophysiology data:"
      ]
    },
    {
      "cell_type": "code",
      "execution_count": 19,
      "metadata": {
        "colab": {
          "base_uri": "https://localhost:8080/"
        },
        "id": "3TOpril54yDn",
        "outputId": "62ce00da-81c0-4fba-8af5-b0b3dedac70a",
        "scrolled": true
      },
      "outputs": [
        {
          "output_type": "stream",
          "name": "stdout",
          "text": [
            "read_alf_sorting\n",
            "read_alphaomega\n",
            "read_alphaomega_event\n",
            "read_axona\n",
            "read_bids\n",
            "read_biocam\n",
            "read_blackrock\n",
            "read_blackrock_sorting\n",
            "read_cbin_ibl\n",
            "read_ced\n",
            "read_cellexplorer\n",
            "read_combinato\n",
            "read_edf\n",
            "read_hdsort\n",
            "read_herdingspikes\n",
            "read_ibl_streaming_recording\n",
            "read_intan\n",
            "read_kilosort\n",
            "read_klusta\n",
            "read_maxwell\n",
            "read_maxwell_event\n",
            "read_mclust\n",
            "read_mcsh5\n",
            "read_mcsraw\n",
            "read_mda_recording\n",
            "read_mda_sorting\n",
            "read_mearec\n",
            "read_neuralynx\n",
            "read_neuralynx_sorting\n",
            "read_neuroscope\n",
            "read_neuroscope_recording\n",
            "read_neuroscope_sorting\n",
            "read_nix\n",
            "read_nwb\n",
            "read_nwb_recording\n",
            "read_nwb_sorting\n",
            "read_openephys\n",
            "read_openephys_event\n",
            "read_phy\n",
            "read_plexon\n",
            "read_plexon_sorting\n",
            "read_shybrid_recording\n",
            "read_shybrid_sorting\n",
            "read_spike2\n",
            "read_spikegadgets\n",
            "read_spikeglx\n",
            "read_spykingcircus\n",
            "read_tdt\n",
            "read_tridesclous\n",
            "read_waveclus\n",
            "read_waveclus_snippets\n",
            "read_yass\n"
          ]
        }
      ],
      "source": [
        "for method in dir(se):\n",
        "    if method.startswith(\"read\"):\n",
        "        print(method)"
      ]
    },
    {
      "cell_type": "markdown",
      "metadata": {
        "id": "Om2Gws4x4yDo"
      },
      "source": [
        "- Getting a list of all the electrophysiological recording files\n",
        "    - **NOTE**: If your recording file does not end with `.rec` or is in a different directory than `./data` then you must change `glob.glob(\"{**/*merged*.rec}\")` below. Where you replace `\"{**/*merged*.rec}\"` with the path to your recording file without the brackets."
      ]
    },
    {
      "cell_type": "code",
      "execution_count": 20,
      "metadata": {
        "id": "7yJc2TyI4yDo"
      },
      "outputs": [],
      "source": [
        "# Getting all the file paths of the recording files(that happen to all end in `.txt`)\n",
        "all_recording_files = glob.glob(\"**/*.rec\", recursive=True)"
      ]
    },
    {
      "cell_type": "code",
      "execution_count": 21,
      "metadata": {
        "colab": {
          "base_uri": "https://localhost:8080/"
        },
        "id": "iYiuCO4a4yDo",
        "outputId": "1fc8f388-b002-48ab-b205-0874cd6554a2"
      },
      "outputs": [
        {
          "output_type": "execute_result",
          "data": {
            "text/plain": [
              "['20221219_124942_6_1_novel_merged.rec']"
            ]
          },
          "metadata": {},
          "execution_count": 21
        }
      ],
      "source": [
        "all_recording_files"
      ]
    },
    {
      "cell_type": "code",
      "source": [
        "recording_file_root = os.path.splitext(all_recording_files[0])[0]\n"
      ],
      "metadata": {
        "id": "DB_BjEMNLNJx"
      },
      "execution_count": 22,
      "outputs": []
    },
    {
      "cell_type": "markdown",
      "metadata": {
        "id": "xQjHPuxB4yDo"
      },
      "source": [
        "- If you have more than one recording file, then you must either:\n",
        "    - A. Put the index of the file in `all_recording_files[0]` below. You would replace the `0` with the correct index. (Remember, Python is zero indexed so the first file in the list is 0. Second is 1, and so forth.\n",
        "    - B. Add a absolute or relative path to `glob.glob(\"{**/*merged*.rec}\")` below. You would replace `{**/*merged*.rec}` with the path of the file for the metadata."
      ]
    },
    {
      "cell_type": "markdown",
      "metadata": {
        "id": "nElZd5ZL4yDo"
      },
      "source": [
        "- Reading in the data into Spikeinterface\n",
        "    - **NOTE**: If you are not using Spikegadgets to record your electrophysiological data, then you must change the `read_spikegadgets` below to the format/device that you are using. Look at list above to see which one matches yours.  "
      ]
    },
    {
      "cell_type": "code",
      "execution_count": 23,
      "metadata": {
        "id": "GNYVh7Jn4yDp"
      },
      "outputs": [],
      "source": [
        "trodes_recording = se.read_spikegadgets(all_recording_files[0], stream_id=\"trodes\")"
      ]
    },
    {
      "cell_type": "markdown",
      "metadata": {
        "id": "81azvSoI4yDp"
      },
      "source": [
        "## Metadata from the recording file"
      ]
    },
    {
      "cell_type": "markdown",
      "metadata": {
        "id": "QJ9AFXc_4yDp"
      },
      "source": [
        "This is how you retrieve info from a :code:`RecordingExtractor`...\n",
        "\n"
      ]
    },
    {
      "cell_type": "code",
      "execution_count": 24,
      "metadata": {
        "colab": {
          "base_uri": "https://localhost:8080/"
        },
        "id": "ZnYGm9-a4yDp",
        "outputId": "733b793c-9076-4d6f-d74a-47476c58885f",
        "scrolled": false
      },
      "outputs": [
        {
          "output_type": "stream",
          "name": "stdout",
          "text": [
            "Channel ids: ['0' '1' '2' '3' '4' '5' '6' '7' '8' '9' '10' '11' '12' '13' '14' '15'\n",
            " '16' '17' '18' '19' '20' '21' '22' '23' '24' '25' '26' '27' '28' '29'\n",
            " '30' '31']\n",
            "Sampling frequency: 20000.0\n",
            "Number of channels: 32\n",
            "Number of segments: 1\n",
            "Duration: 24011275\n",
            "Number of hours: 0.33348993055555554\n"
          ]
        }
      ],
      "source": [
        "channel_ids = trodes_recording.get_channel_ids()\n",
        "fs = trodes_recording.get_sampling_frequency()\n",
        "num_chan = trodes_recording.get_num_channels()\n",
        "num_seg = trodes_recording.get_num_segments()\n",
        "duration = trodes_recording.get_num_frames()\n",
        "\n",
        "print('Channel ids:', channel_ids)\n",
        "print('Sampling frequency:', fs)\n",
        "print('Number of channels:', num_chan)\n",
        "print('Number of segments:', num_seg)\n",
        "print('Duration:', duration)\n",
        "print('Number of hours:', duration/fs/3600)"
      ]
    },
    {
      "cell_type": "code",
      "execution_count": 25,
      "metadata": {
        "id": "82v-lKcC4yDq"
      },
      "outputs": [],
      "source": [
        "recording = trodes_recording"
      ]
    },
    {
      "cell_type": "markdown",
      "metadata": {
        "id": "2JH7aF574yDq"
      },
      "source": [
        "## Plotting the electrophysiology activity"
      ]
    },
    {
      "cell_type": "markdown",
      "metadata": {
        "id": "CRKeW5Py4yDr"
      },
      "source": [
        ":code:`recording` is a :code:`RecordingExtractor` object, which extracts information about channel ids, channel locations\n",
        "(if present), the sampling frequency of the recording, and the extracellular  traces. :code:`sorting_true` is a\n",
        ":code:`SortingExtractor` object, which contains information about spike-sorting related information,  including unit ids,\n",
        "spike trains, etc.\n",
        "Let's use the :code:`widgets` module to visualize the traces and the raster plots.\n",
        "\n"
      ]
    },
    {
      "cell_type": "markdown",
      "metadata": {
        "id": "7kOaBwxs4yDr"
      },
      "source": [
        "- Plotting the activity for all channels for the first 5 seconds\n",
        "    - Check to see if there's any activity.\n",
        "    - You can adjust the time by changing `time_range=(0, 5)`. The first number is when the plotting starts in seconds, and the second number is the when the plotting ends."
      ]
    },
    {
      "cell_type": "code",
      "execution_count": 26,
      "metadata": {
        "colab": {
          "base_uri": "https://localhost:8080/",
          "height": 388
        },
        "id": "_k4b5HyQ4yDr",
        "outputId": "a40e7213-674c-4c2a-8e50-191fd65fcc3b",
        "scrolled": true
      },
      "outputs": [
        {
          "output_type": "display_data",
          "data": {
            "text/plain": [
              "<Figure size 720x432 with 1 Axes>"
            ],
            "image/png": "[encoded data removed]"
          },
          "metadata": {
            "needs_background": "light"
          }
        }
      ],
      "source": [
        "w_ts = sw.plot_timeseries(recording, time_range=(0, 5))"
      ]
    },
    {
      "cell_type": "markdown",
      "metadata": {
        "id": "wMTM8P9J4yDr"
      },
      "source": [
        "# Part 2: Setting Probes"
      ]
    },
    {
      "cell_type": "markdown",
      "metadata": {
        "id": "O6c1A5WA4yDr"
      },
      "source": [
        "- Adding the information about the probes used to record the electrophysiology data.\n",
        "- If you are using different probes, take a look at:\n",
        "    - https://probeinterface.readthedocs.io/_/downloads/en/latest/pdf/\n",
        "    - https://spikeinterface.readthedocs.io/en/latest/modules/core/plot_3_handle_probe_info.html#sphx-glr-modules-core-plot-3-handle-probe-info-py"
      ]
    },
    {
      "cell_type": "markdown",
      "metadata": {
        "id": "3VETd9ar4yDr"
      },
      "source": [
        "## Reading in a Probe file"
      ]
    },
    {
      "cell_type": "code",
      "execution_count": 27,
      "metadata": {
        "id": "N7tNbwIT4yDs"
      },
      "outputs": [],
      "source": [
        "# Getting all the file paths of the recording parameter files(that happen to all end in `.prm`)\n",
        "all_probe_files = glob.glob(\"**/*.prb\", recursive=True)"
      ]
    },
    {
      "cell_type": "code",
      "execution_count": 28,
      "metadata": {
        "colab": {
          "base_uri": "https://localhost:8080/"
        },
        "id": "2335p7Ev4yDs",
        "outputId": "5edacd63-a14c-4c20-dbad-9d003c88e226"
      },
      "outputs": [
        {
          "output_type": "execute_result",
          "data": {
            "text/plain": [
              "['nancyprobe_linearprobelargespace.prb']"
            ]
          },
          "metadata": {},
          "execution_count": 28
        }
      ],
      "source": [
        "all_probe_files"
      ]
    },
    {
      "cell_type": "markdown",
      "metadata": {
        "id": "Kcxwn7Dq4yDs"
      },
      "source": [
        "- If you have more than one metadata file, then you must either:\n",
        "    - A. Put the index of the file in `all_probe_files[0]` below. You would replace the `0` with the correct index. (Remember, Python is zero indexed so the first file in the list is 0. Second is 1, and so forth.\n",
        "    - B. Add a absolute or relative path to `glob.glob(\"{**/*.prb})\"` below. You would replace `{**/*.prb}` with the path of the file for the metadata."
      ]
    },
    {
      "cell_type": "code",
      "execution_count": 29,
      "metadata": {
        "colab": {
          "base_uri": "https://localhost:8080/"
        },
        "id": "cDAZmjAh4yDs",
        "outputId": "afbdfcd4-f245-4b77-cc07-2a786e9ba983"
      },
      "outputs": [
        {
          "output_type": "stream",
          "name": "stdout",
          "text": [
            "channel_groups = {0: {'channels': [0,\n",
            "\n",
            "                  1,\n",
            "\n",
            "                  2,\n",
            "\n",
            "                  3,\n",
            "\n",
            "                  4,\n",
            "\n",
            "                  5,\n",
            "\n",
            "                  6,\n",
            "\n",
            "                  7,\n",
            "\n",
            "                  8,\n",
            "\n",
            "                  9,\n",
            "\n",
            "                  10,\n",
            "\n",
            "                  11,\n",
            "\n",
            "                  12,\n",
            "\n",
            "                  13,\n",
            "\n",
            "                  14,\n",
            "\n",
            "                  15,\n",
            "\n",
            "                  16,\n",
            "\n",
            "                  17,\n",
            "\n",
            "                  18,\n",
            "\n",
            "                  19,\n",
            "\n",
            "                  20,\n",
            "\n",
            "                  21,\n",
            "\n",
            "                  22,\n",
            "\n",
            "                  23,\n",
            "\n",
            "                  24,\n",
            "\n",
            "                  25,\n",
            "\n",
            "                  26,\n",
            "\n",
            "                  27,\n",
            "\n",
            "                  28,\n",
            "\n",
            "                  29,\n",
            "\n",
            "                  30,\n",
            "\n",
            "                  31],\n",
            "\n",
            "     'geometry':{\n",
            "\n",
            "    0: (0, 0),\n",
            "\n",
            "    1: (5, 20),\n",
            "\n",
            "    2: (-7, 40),\n",
            "\n",
            "    3: (9, 60),\n",
            "\n",
            "    4: (-11, 80),\n",
            "\n",
            "    5: (13, 100),\n",
            "\n",
            "    6: (-15, 120),\n",
            "\n",
            "    7: (17, 140),\n",
            "\n",
            "    8: (-19, 160),\n",
            "\n",
            "    9: (21, 180),\n",
            "\n",
            "    10: (-23, 200),\n",
            "\n",
            "    11: (25, 220),\n",
            "\n",
            "    12: (-27, 240),\n",
            "\n",
            "    13: (29, 260),\n",
            "\n",
            "    14: (-31, 280),\n",
            "\n",
            "    15: (33, 300),\n",
            "\n",
            "    16: (-35, 320),\n",
            "\n",
            "    17: (37, 340),\n",
            "\n",
            "    18: (-39, 360),\n",
            "\n",
            "    19: (41, 380),\n",
            "\n",
            "    20: (-43, 400),\n",
            "\n",
            "    21: (45, 420),\n",
            "\n",
            "    22: (-47, 440),\n",
            "\n",
            "    23: (49, 460),\n",
            "\n",
            "    24: (-51, 480),\n",
            "\n",
            "    25: (53, 500),\n",
            "\n",
            "    26: (-55, 520),\n",
            "\n",
            "    27: (57, 540),\n",
            "\n",
            "    28: (-59, 560),\n",
            "\n",
            "    29: (61, 580),\n",
            "\n",
            "    30: (-63, 600),\n",
            "\n",
            "    31: (65, 620),\n",
            "\n",
            "},\n",
            "\n",
            "     'graph': [(0, 1),\n",
            "\n",
            "               (1, 2),\n",
            "\n",
            "               (2, 3),\n",
            "\n",
            "               (3, 4),\n",
            "\n",
            "               (4, 5),\n",
            "\n",
            "               (5, 6),\n",
            "\n",
            "               (6, 7),\n",
            "\n",
            "               (7, 8),\n",
            "\n",
            "               (8, 9),\n",
            "\n",
            "               (9, 10),\n",
            "\n",
            "               (10, 11),\n",
            "\n",
            "               (11, 12),\n",
            "\n",
            "               (12, 13),\n",
            "\n",
            "               (13, 14),\n",
            "\n",
            "               (14, 15),\n",
            "\n",
            "               (15, 16),\n",
            "\n",
            "               (16, 17),\n",
            "\n",
            "               (17, 18),\n",
            "\n",
            "               (18, 19),\n",
            "\n",
            "               (19, 20),\n",
            "\n",
            "               (20, 21),\n",
            "\n",
            "               (21, 22),\n",
            "\n",
            "               (22, 23),\n",
            "\n",
            "               (23, 24),\n",
            "\n",
            "               (24, 25),\n",
            "\n",
            "               (25, 26),\n",
            "\n",
            "               (26, 27),\n",
            "\n",
            "               (27, 28),\n",
            "\n",
            "               (28, 29),\n",
            "\n",
            "               (29, 30),\n",
            "\n",
            "               (30, 31)]}}\n",
            "\n"
          ]
        }
      ],
      "source": [
        "if len(all_probe_files) < 1:\n",
        "    warnings.warn(\"There are no parameter files in the directory that you specified. Please add a file, or correct the directory path\")\n",
        "else:\n",
        "    probe_parameters = imp.load_source(\"probe_parameters\", all_probe_files[0])\n",
        "    with open(all_probe_files[0]) as info_file:\n",
        "        lines = info_file.readlines()\n",
        "        for line in lines:\n",
        "            print(line)"
      ]
    },
    {
      "cell_type": "markdown",
      "metadata": {
        "id": "5sXmK6Eb4yDs"
      },
      "source": [
        "- Reading in the probe information into Spike interface and plotting the probe"
      ]
    },
    {
      "cell_type": "code",
      "execution_count": 30,
      "metadata": {
        "colab": {
          "base_uri": "https://localhost:8080/",
          "height": 397
        },
        "id": "-x2WjWha4yDs",
        "outputId": "2df2416e-f042-4a67-b2a6-8db28e3cad28"
      },
      "outputs": [
        {
          "output_type": "display_data",
          "data": {
            "text/plain": [
              "<Figure size 720x432 with 1 Axes>"
            ],
            "image/png": "[encoded data removed]"
          },
          "metadata": {
            "needs_background": "light"
          }
        }
      ],
      "source": [
        "if len(all_probe_files) < 1:\n",
        "    warnings.warn(\"There are no parameter files in the directory that you specified. Please add a file, or correct the directory path\")\n",
        "else:\n",
        "    # Reading in the probe data\n",
        "    probe_object = read_prb(all_probe_files[0])\n",
        "    # Setting the probe to the recording object\n",
        "    recording = recording.set_probes(probe_object)\n",
        "    # Plotting the probe configuration\n",
        "    plot_probe_group(probe_object, same_axes=True, with_channel_index=True)\n",
        "    plt.show()"
      ]
    },
    {
      "cell_type": "code",
      "execution_count": 31,
      "metadata": {
        "colab": {
          "base_uri": "https://localhost:8080/",
          "height": 1000
        },
        "id": "PYHDZ8XE4yDt",
        "outputId": "b976a052-62f0-4699-8375-a7da8d3d8892",
        "scrolled": true
      },
      "outputs": [
        {
          "output_type": "execute_result",
          "data": {
            "text/plain": [
              "    probe_index     x      y contact_shapes  radius shank_ids contact_ids\n",
              "0             0   0.0    0.0         circle     5.0                      \n",
              "1             0   5.0   20.0         circle     5.0                      \n",
              "2             0  -7.0   40.0         circle     5.0                      \n",
              "3             0   9.0   60.0         circle     5.0                      \n",
              "4             0 -11.0   80.0         circle     5.0                      \n",
              "5             0  13.0  100.0         circle     5.0                      \n",
              "6             0 -15.0  120.0         circle     5.0                      \n",
              "7             0  17.0  140.0         circle     5.0                      \n",
              "8             0 -19.0  160.0         circle     5.0                      \n",
              "9             0  21.0  180.0         circle     5.0                      \n",
              "10            0 -23.0  200.0         circle     5.0                      \n",
              "11            0  25.0  220.0         circle     5.0                      \n",
              "12            0 -27.0  240.0         circle     5.0                      \n",
              "13            0  29.0  260.0         circle     5.0                      \n",
              "14            0 -31.0  280.0         circle     5.0                      \n",
              "15            0  33.0  300.0         circle     5.0                      \n",
              "16            0 -35.0  320.0         circle     5.0                      \n",
              "17            0  37.0  340.0         circle     5.0                      \n",
              "18            0 -39.0  360.0         circle     5.0                      \n",
              "19            0  41.0  380.0         circle     5.0                      \n",
              "20            0 -43.0  400.0         circle     5.0                      \n",
              "21            0  45.0  420.0         circle     5.0                      \n",
              "22            0 -47.0  440.0         circle     5.0                      \n",
              "23            0  49.0  460.0         circle     5.0                      \n",
              "24            0 -51.0  480.0         circle     5.0                      \n",
              "25            0  53.0  500.0         circle     5.0                      \n",
              "26            0 -55.0  520.0         circle     5.0                      \n",
              "27            0  57.0  540.0         circle     5.0                      \n",
              "28            0 -59.0  560.0         circle     5.0                      \n",
              "29            0  61.0  580.0         circle     5.0                      \n",
              "30            0 -63.0  600.0         circle     5.0                      \n",
              "31            0  65.0  620.0         circle     5.0                      "
            ],
            "text/html": [
              "\n",
              "  <div id=\"df-c2c6cce2-6756-4d6b-87f5-3326976461fd\">\n",
              "    <div class=\"colab-df-container\">\n",
              "      <div>\n",
              "<style scoped>\n",
              "    .dataframe tbody tr th:only-of-type {\n",
              "        vertical-align: middle;\n",
              "    }\n",
              "\n",
              "    .dataframe tbody tr th {\n",
              "        vertical-align: top;\n",
              "    }\n",
              "\n",
              "    .dataframe thead th {\n",
              "        text-align: right;\n",
              "    }\n",
              "</style>\n",
              "<table border=\"1\" class=\"dataframe\">\n",
              "  <thead>\n",
              "    <tr style=\"text-align: right;\">\n",
              "      <th></th>\n",
              "      <th>probe_index</th>\n",
              "      <th>x</th>\n",
              "      <th>y</th>\n",
              "      <th>contact_shapes</th>\n",
              "      <th>radius</th>\n",
              "      <th>shank_ids</th>\n",
              "      <th>contact_ids</th>\n",
              "    </tr>\n",
              "  </thead>\n",
              "  <tbody>\n",
              "    <tr>\n",
              "      <th>0</th>\n",
              "      <td>0</td>\n",
              "      <td>0.0</td>\n",
              "      <td>0.0</td>\n",
              "      <td>circle</td>\n",
              "      <td>5.0</td>\n",
              "      <td></td>\n",
              "      <td></td>\n",
              "    </tr>\n",
              "    <tr>\n",
              "      <th>1</th>\n",
              "      <td>0</td>\n",
              "      <td>5.0</td>\n",
              "      <td>20.0</td>\n",
              "      <td>circle</td>\n",
              "      <td>5.0</td>\n",
              "      <td></td>\n",
              "      <td></td>\n",
              "    </tr>\n",
              "    <tr>\n",
              "      <th>2</th>\n",
              "      <td>0</td>\n",
              "      <td>-7.0</td>\n",
              "      <td>40.0</td>\n",
              "      <td>circle</td>\n",
              "      <td>5.0</td>\n",
              "      <td></td>\n",
              "      <td></td>\n",
              "    </tr>\n",
              "    <tr>\n",
              "      <th>3</th>\n",
              "      <td>0</td>\n",
              "      <td>9.0</td>\n",
              "      <td>60.0</td>\n",
              "      <td>circle</td>\n",
              "      <td>5.0</td>\n",
              "      <td></td>\n",
              "      <td></td>\n",
              "    </tr>\n",
              "    <tr>\n",
              "      <th>4</th>\n",
              "      <td>0</td>\n",
              "      <td>-11.0</td>\n",
              "      <td>80.0</td>\n",
              "      <td>circle</td>\n",
              "      <td>5.0</td>\n",
              "      <td></td>\n",
              "      <td></td>\n",
              "    </tr>\n",
              "    <tr>\n",
              "      <th>5</th>\n",
              "      <td>0</td>\n",
              "      <td>13.0</td>\n",
              "      <td>100.0</td>\n",
              "      <td>circle</td>\n",
              "      <td>5.0</td>\n",
              "      <td></td>\n",
              "      <td></td>\n",
              "    </tr>\n",
              "    <tr>\n",
              "      <th>6</th>\n",
              "      <td>0</td>\n",
              "      <td>-15.0</td>\n",
              "      <td>120.0</td>\n",
              "      <td>circle</td>\n",
              "      <td>5.0</td>\n",
              "      <td></td>\n",
              "      <td></td>\n",
              "    </tr>\n",
              "    <tr>\n",
              "      <th>7</th>\n",
              "      <td>0</td>\n",
              "      <td>17.0</td>\n",
              "      <td>140.0</td>\n",
              "      <td>circle</td>\n",
              "      <td>5.0</td>\n",
              "      <td></td>\n",
              "      <td></td>\n",
              "    </tr>\n",
              "    <tr>\n",
              "      <th>8</th>\n",
              "      <td>0</td>\n",
              "      <td>-19.0</td>\n",
              "      <td>160.0</td>\n",
              "      <td>circle</td>\n",
              "      <td>5.0</td>\n",
              "      <td></td>\n",
              "      <td></td>\n",
              "    </tr>\n",
              "    <tr>\n",
              "      <th>9</th>\n",
              "      <td>0</td>\n",
              "      <td>21.0</td>\n",
              "      <td>180.0</td>\n",
              "      <td>circle</td>\n",
              "      <td>5.0</td>\n",
              "      <td></td>\n",
              "      <td></td>\n",
              "    </tr>\n",
              "    <tr>\n",
              "      <th>10</th>\n",
              "      <td>0</td>\n",
              "      <td>-23.0</td>\n",
              "      <td>200.0</td>\n",
              "      <td>circle</td>\n",
              "      <td>5.0</td>\n",
              "      <td></td>\n",
              "      <td></td>\n",
              "    </tr>\n",
              "    <tr>\n",
              "      <th>11</th>\n",
              "      <td>0</td>\n",
              "      <td>25.0</td>\n",
              "      <td>220.0</td>\n",
              "      <td>circle</td>\n",
              "      <td>5.0</td>\n",
              "      <td></td>\n",
              "      <td></td>\n",
              "    </tr>\n",
              "    <tr>\n",
              "      <th>12</th>\n",
              "      <td>0</td>\n",
              "      <td>-27.0</td>\n",
              "      <td>240.0</td>\n",
              "      <td>circle</td>\n",
              "      <td>5.0</td>\n",
              "      <td></td>\n",
              "      <td></td>\n",
              "    </tr>\n",
              "    <tr>\n",
              "      <th>13</th>\n",
              "      <td>0</td>\n",
              "      <td>29.0</td>\n",
              "      <td>260.0</td>\n",
              "      <td>circle</td>\n",
              "      <td>5.0</td>\n",
              "      <td></td>\n",
              "      <td></td>\n",
              "    </tr>\n",
              "    <tr>\n",
              "      <th>14</th>\n",
              "      <td>0</td>\n",
              "      <td>-31.0</td>\n",
              "      <td>280.0</td>\n",
              "      <td>circle</td>\n",
              "      <td>5.0</td>\n",
              "      <td></td>\n",
              "      <td></td>\n",
              "    </tr>\n",
              "    <tr>\n",
              "      <th>15</th>\n",
              "      <td>0</td>\n",
              "      <td>33.0</td>\n",
              "      <td>300.0</td>\n",
              "      <td>circle</td>\n",
              "      <td>5.0</td>\n",
              "      <td></td>\n",
              "      <td></td>\n",
              "    </tr>\n",
              "    <tr>\n",
              "      <th>16</th>\n",
              "      <td>0</td>\n",
              "      <td>-35.0</td>\n",
              "      <td>320.0</td>\n",
              "      <td>circle</td>\n",
              "      <td>5.0</td>\n",
              "      <td></td>\n",
              "      <td></td>\n",
              "    </tr>\n",
              "    <tr>\n",
              "      <th>17</th>\n",
              "      <td>0</td>\n",
              "      <td>37.0</td>\n",
              "      <td>340.0</td>\n",
              "      <td>circle</td>\n",
              "      <td>5.0</td>\n",
              "      <td></td>\n",
              "      <td></td>\n",
              "    </tr>\n",
              "    <tr>\n",
              "      <th>18</th>\n",
              "      <td>0</td>\n",
              "      <td>-39.0</td>\n",
              "      <td>360.0</td>\n",
              "      <td>circle</td>\n",
              "      <td>5.0</td>\n",
              "      <td></td>\n",
              "      <td></td>\n",
              "    </tr>\n",
              "    <tr>\n",
              "      <th>19</th>\n",
              "      <td>0</td>\n",
              "      <td>41.0</td>\n",
              "      <td>380.0</td>\n",
              "      <td>circle</td>\n",
              "      <td>5.0</td>\n",
              "      <td></td>\n",
              "      <td></td>\n",
              "    </tr>\n",
              "    <tr>\n",
              "      <th>20</th>\n",
              "      <td>0</td>\n",
              "      <td>-43.0</td>\n",
              "      <td>400.0</td>\n",
              "      <td>circle</td>\n",
              "      <td>5.0</td>\n",
              "      <td></td>\n",
              "      <td></td>\n",
              "    </tr>\n",
              "    <tr>\n",
              "      <th>21</th>\n",
              "      <td>0</td>\n",
              "      <td>45.0</td>\n",
              "      <td>420.0</td>\n",
              "      <td>circle</td>\n",
              "      <td>5.0</td>\n",
              "      <td></td>\n",
              "      <td></td>\n",
              "    </tr>\n",
              "    <tr>\n",
              "      <th>22</th>\n",
              "      <td>0</td>\n",
              "      <td>-47.0</td>\n",
              "      <td>440.0</td>\n",
              "      <td>circle</td>\n",
              "      <td>5.0</td>\n",
              "      <td></td>\n",
              "      <td></td>\n",
              "    </tr>\n",
              "    <tr>\n",
              "      <th>23</th>\n",
              "      <td>0</td>\n",
              "      <td>49.0</td>\n",
              "      <td>460.0</td>\n",
              "      <td>circle</td>\n",
              "      <td>5.0</td>\n",
              "      <td></td>\n",
              "      <td></td>\n",
              "    </tr>\n",
              "    <tr>\n",
              "      <th>24</th>\n",
              "      <td>0</td>\n",
              "      <td>-51.0</td>\n",
              "      <td>480.0</td>\n",
              "      <td>circle</td>\n",
              "      <td>5.0</td>\n",
              "      <td></td>\n",
              "      <td></td>\n",
              "    </tr>\n",
              "    <tr>\n",
              "      <th>25</th>\n",
              "      <td>0</td>\n",
              "      <td>53.0</td>\n",
              "      <td>500.0</td>\n",
              "      <td>circle</td>\n",
              "      <td>5.0</td>\n",
              "      <td></td>\n",
              "      <td></td>\n",
              "    </tr>\n",
              "    <tr>\n",
              "      <th>26</th>\n",
              "      <td>0</td>\n",
              "      <td>-55.0</td>\n",
              "      <td>520.0</td>\n",
              "      <td>circle</td>\n",
              "      <td>5.0</td>\n",
              "      <td></td>\n",
              "      <td></td>\n",
              "    </tr>\n",
              "    <tr>\n",
              "      <th>27</th>\n",
              "      <td>0</td>\n",
              "      <td>57.0</td>\n",
              "      <td>540.0</td>\n",
              "      <td>circle</td>\n",
              "      <td>5.0</td>\n",
              "      <td></td>\n",
              "      <td></td>\n",
              "    </tr>\n",
              "    <tr>\n",
              "      <th>28</th>\n",
              "      <td>0</td>\n",
              "      <td>-59.0</td>\n",
              "      <td>560.0</td>\n",
              "      <td>circle</td>\n",
              "      <td>5.0</td>\n",
              "      <td></td>\n",
              "      <td></td>\n",
              "    </tr>\n",
              "    <tr>\n",
              "      <th>29</th>\n",
              "      <td>0</td>\n",
              "      <td>61.0</td>\n",
              "      <td>580.0</td>\n",
              "      <td>circle</td>\n",
              "      <td>5.0</td>\n",
              "      <td></td>\n",
              "      <td></td>\n",
              "    </tr>\n",
              "    <tr>\n",
              "      <th>30</th>\n",
              "      <td>0</td>\n",
              "      <td>-63.0</td>\n",
              "      <td>600.0</td>\n",
              "      <td>circle</td>\n",
              "      <td>5.0</td>\n",
              "      <td></td>\n",
              "      <td></td>\n",
              "    </tr>\n",
              "    <tr>\n",
              "      <th>31</th>\n",
              "      <td>0</td>\n",
              "      <td>65.0</td>\n",
              "      <td>620.0</td>\n",
              "      <td>circle</td>\n",
              "      <td>5.0</td>\n",
              "      <td></td>\n",
              "      <td></td>\n",
              "    </tr>\n",
              "  </tbody>\n",
              "</table>\n",
              "</div>\n",
              "      <button class=\"colab-df-convert\" onclick=\"convertToInteractive('df-c2c6cce2-6756-4d6b-87f5-3326976461fd')\"\n",
              "              title=\"Convert this dataframe to an interactive table.\"\n",
              "              style=\"display:none;\">\n",
              "        \n",
              "  <svg xmlns=\"http://www.w3.org/2000/svg\" height=\"24px\"viewBox=\"0 0 24 24\"\n",
              "       width=\"24px\">\n",
              "    <path d=\"M0 0h24v24H0V0z\" fill=\"none\"/>\n",
              "    <path d=\"M18.56 5.44l.94 2.06.94-2.06 2.06-.94-2.06-.94-.94-2.06-.94 2.06-2.06.94zm-11 1L8.5 8.5l.94-2.06 2.06-.94-2.06-.94L8.5 2.5l-.94 2.06-2.06.94zm10 10l.94 2.06.94-2.06 2.06-.94-2.06-.94-.94-2.06-.94 2.06-2.06.94z\"/><path d=\"M17.41 7.96l-1.37-1.37c-.4-.4-.92-.59-1.43-.59-.52 0-1.04.2-1.43.59L10.3 9.45l-7.72 7.72c-.78.78-.78 2.05 0 2.83L4 21.41c.39.39.9.59 1.41.59.51 0 1.02-.2 1.41-.59l7.78-7.78 2.81-2.81c.8-.78.8-2.07 0-2.86zM5.41 20L4 18.59l7.72-7.72 1.47 1.35L5.41 20z\"/>\n",
              "  </svg>\n",
              "      </button>\n",
              "      \n",
              "  <style>\n",
              "    .colab-df-container {\n",
              "      display:flex;\n",
              "      flex-wrap:wrap;\n",
              "      gap: 12px;\n",
              "    }\n",
              "\n",
              "    .colab-df-convert {\n",
              "      background-color: #E8F0FE;\n",
              "      border: none;\n",
              "      border-radius: 50%;\n",
              "      cursor: pointer;\n",
              "      display: none;\n",
              "      fill: #1967D2;\n",
              "      height: 32px;\n",
              "      padding: 0 0 0 0;\n",
              "      width: 32px;\n",
              "    }\n",
              "\n",
              "    .colab-df-convert:hover {\n",
              "      background-color: #E2EBFA;\n",
              "      box-shadow: 0px 1px 2px rgba(60, 64, 67, 0.3), 0px 1px 3px 1px rgba(60, 64, 67, 0.15);\n",
              "      fill: #174EA6;\n",
              "    }\n",
              "\n",
              "    [theme=dark] .colab-df-convert {\n",
              "      background-color: #3B4455;\n",
              "      fill: #D2E3FC;\n",
              "    }\n",
              "\n",
              "    [theme=dark] .colab-df-convert:hover {\n",
              "      background-color: #434B5C;\n",
              "      box-shadow: 0px 1px 3px 1px rgba(0, 0, 0, 0.15);\n",
              "      filter: drop-shadow(0px 1px 2px rgba(0, 0, 0, 0.3));\n",
              "      fill: #FFFFFF;\n",
              "    }\n",
              "  </style>\n",
              "\n",
              "      <script>\n",
              "        const buttonEl =\n",
              "          document.querySelector('#df-c2c6cce2-6756-4d6b-87f5-3326976461fd button.colab-df-convert');\n",
              "        buttonEl.style.display =\n",
              "          google.colab.kernel.accessAllowed ? 'block' : 'none';\n",
              "\n",
              "        async function convertToInteractive(key) {\n",
              "          const element = document.querySelector('#df-c2c6cce2-6756-4d6b-87f5-3326976461fd');\n",
              "          const dataTable =\n",
              "            await google.colab.kernel.invokeFunction('convertToInteractive',\n",
              "                                                     [key], {});\n",
              "          if (!dataTable) return;\n",
              "\n",
              "          const docLinkHtml = 'Like what you see? Visit the ' +\n",
              "            '<a target=\"_blank\" href=https://colab.research.google.com/notebooks/data_table.ipynb>data table notebook</a>'\n",
              "            + ' to learn more about interactive tables.';\n",
              "          element.innerHTML = '';\n",
              "          dataTable['output_type'] = 'display_data';\n",
              "          await google.colab.output.renderOutput(dataTable, element);\n",
              "          const docLink = document.createElement('div');\n",
              "          docLink.innerHTML = docLinkHtml;\n",
              "          element.appendChild(docLink);\n",
              "        }\n",
              "      </script>\n",
              "    </div>\n",
              "  </div>\n",
              "  "
            ]
          },
          "metadata": {},
          "execution_count": 31
        }
      ],
      "source": [
        "\n",
        "probe_object.to_dataframe()"
      ]
    },
    {
      "cell_type": "code",
      "execution_count": 32,
      "metadata": {
        "colab": {
          "base_uri": "https://localhost:8080/"
        },
        "id": "DSLs_Nc44yDt",
        "outputId": "833ab60f-79fa-4a0f-e2cf-eea40e46d6c8"
      },
      "outputs": [
        {
          "output_type": "execute_result",
          "data": {
            "text/plain": [
              "array([(0,  0), (0,  1), (0,  2), (0,  3), (0,  4), (0,  5), (0,  6),\n",
              "       (0,  7), (0,  8), (0,  9), (0, 10), (0, 11), (0, 12), (0, 13),\n",
              "       (0, 14), (0, 15), (0, 16), (0, 17), (0, 18), (0, 19), (0, 20),\n",
              "       (0, 21), (0, 22), (0, 23), (0, 24), (0, 25), (0, 26), (0, 27),\n",
              "       (0, 28), (0, 29), (0, 30), (0, 31)],\n",
              "      dtype=[('probe_index', '<i8'), ('device_channel_indices', '<i8')])"
            ]
          },
          "metadata": {},
          "execution_count": 32
        }
      ],
      "source": [
        "probe_object.get_global_device_channel_indices()"
      ]
    },
    {
      "cell_type": "code",
      "execution_count": 33,
      "metadata": {
        "id": "9yYQxKQl4yDx"
      },
      "outputs": [],
      "source": [
        "parent_output_directory = \"./proc/{}\".format(recording_file_root)"
      ]
    },
    {
      "cell_type": "code",
      "execution_count": 34,
      "metadata": {
        "id": "32f11wb24yDx"
      },
      "outputs": [],
      "source": [
        "os.makedirs(parent_output_directory, exist_ok=True)"
      ]
    },
    {
      "cell_type": "code",
      "execution_count": 35,
      "metadata": {
        "id": "Fk0_oaxP4yDx"
      },
      "outputs": [],
      "source": [
        "recording_output_directory = os.path.join(parent_output_directory, \"recording_raw\")"
      ]
    },
    {
      "cell_type": "code",
      "execution_count": 36,
      "metadata": {
        "colab": {
          "base_uri": "https://localhost:8080/",
          "height": 35
        },
        "id": "HY0bfGrY4yDx",
        "outputId": "3d430f2e-188a-4a29-94e0-41c5bba078ec"
      },
      "outputs": [
        {
          "output_type": "execute_result",
          "data": {
            "text/plain": [
              "'./proc/20221219_124942_6_1_novel_merged/recording_raw'"
            ],
            "application/vnd.google.colaboratory.intrinsic+json": {
              "type": "string"
            }
          },
          "metadata": {},
          "execution_count": 36
        }
      ],
      "source": [
        "recording_output_directory"
      ]
    },
    {
      "cell_type": "code",
      "execution_count": 37,
      "metadata": {
        "colab": {
          "base_uri": "https://localhost:8080/",
          "height": 66,
          "referenced_widgets": [
            "28e7cc42ef5d495a94407fc9672e3e57",
            "f7f2930d1dd04fa2987c5238a793a510",
            "d1274cbcae714c258f8bca198e542284",
            "4641ffced8a641d992baadef7e479e3d",
            "86411350843f4ea89fd94b0bf12a39ab",
            "b8e04f58794c460480c03e9e9f983381",
            "ff5aca93c3e14cc790340d6a2bab7c7a",
            "018e4f3e47474810a32e1f4021d404f1",
            "a358b634505647caa4f34bf9650aa23a",
            "b837aabc3d864cf8a166ce4df0cb999f",
            "0d22f823174c4699bc95e82262a50a16"
          ]
        },
        "id": "yLlj2sLQ4yDx",
        "outputId": "6f5cbff8-7aab-4562-c9cf-774de2540196"
      },
      "outputs": [
        {
          "output_type": "stream",
          "name": "stdout",
          "text": [
            "write_binary_recording with n_jobs = 1 and chunk_size = 20000\n"
          ]
        },
        {
          "output_type": "display_data",
          "data": {
            "text/plain": [
              "write_binary_recording:   0%|          | 0/1201 [00:00<?, ?it/s]"
            ],
            "application/vnd.jupyter.widget-view+json": {
              "version_major": 2,
              "version_minor": 0,
              "model_id": "28e7cc42ef5d495a94407fc9672e3e57"
            }
          },
          "metadata": {}
        }
      ],
      "source": [
        "if not os.path.exists(recording_output_directory):\n",
        "    recording.save_to_folder(name=\"recording_raw\", folder=recording_output_directory)\n",
        "else:\n",
        "    warnings.warn(\"\"\"Directory already exists for: {}. \n",
        "    Either continue on if you are satisfied with the previous run \n",
        "    or delete the directory and run this cell again\"\"\".format(recording_output_directory))"
      ]
    },
    {
      "cell_type": "markdown",
      "metadata": {
        "id": "WZqNTetBF0kn"
      },
      "source": [
        "# Chapter 2: Preprocessing Recording"
      ]
    },
    {
      "cell_type": "markdown",
      "metadata": {
        "id": "lkMmsaqfF0kp"
      },
      "source": [
        "- Preproccessing the signal to improve the spike sorting performance"
      ]
    },
    {
      "cell_type": "markdown",
      "metadata": {
        "id": "uEvdzBL7F0kp"
      },
      "source": [
        "- **NOTE**: If you want to add preprocessing steps, you must either make additional code cells to a similar format as below or change the commented code cells by removing the `\"\"\"`\n",
        "    - Here are more available preprocessing techniques: \n",
        "    - https://spikeinterface.readthedocs.io/en/latest/modules/preprocessing.html\n",
        "\n",
        "- **NOTE**: If you want to remove preprocessing steps, you must turn unneeded `Code` cells into comments(Put `\"\"\"` at the top, and `\"\"\"` at the bottom)`Raw NBConvert` cells.\n",
        "\n",
        "- **NOTE**: If you want to reorder the preprocessing steps, you must reorder the `Code` cells by clicking on the up or down arrow on the top menu when you have the `Code` cell clicked."
      ]
    },
    {
      "cell_type": "markdown",
      "metadata": {
        "id": "oJ6Ir5wTF0kp"
      },
      "source": [
        "- All available preprocessing methods shown below:"
      ]
    },
    {
      "cell_type": "code",
      "execution_count": 38,
      "metadata": {
        "scrolled": true,
        "colab": {
          "base_uri": "https://localhost:8080/"
        },
        "id": "4w_KrbvdF0kq",
        "outputId": "d40b8ae8-890d-4782-ff75-fed34b42d696"
      },
      "outputs": [
        {
          "output_type": "stream",
          "name": "stdout",
          "text": [
            "AlignSnippets\n",
            "BandpassFilterRecording\n",
            "BlankSaturationRecording\n",
            "CenterRecording\n",
            "ClipRecording\n",
            "CommonReferenceRecording\n",
            "DeepInterpolatedRecording\n",
            "FilterRecording\n",
            "HighpassFilterRecording\n",
            "HighpassSpatialFilterRecording\n",
            "InterpolateBadChannelsRecording\n",
            "NormalizeByQuantileRecording\n",
            "NotchFilterRecording\n",
            "PhaseShiftRecording\n",
            "RectifyRecording\n",
            "RemoveArtifactsRecording\n",
            "ResampleRecording\n",
            "ScaleRecording\n",
            "WhitenRecording\n",
            "ZScoreRecording\n",
            "ZeroChannelPaddedRecording\n",
            "__builtins__\n",
            "__cached__\n",
            "__doc__\n",
            "__file__\n",
            "__loader__\n",
            "__name__\n",
            "__package__\n",
            "__path__\n",
            "__spec__\n",
            "align_snippets\n",
            "bandpass_filter\n",
            "basepreprocessor\n",
            "blank_staturation\n",
            "center\n",
            "clip\n",
            "common_reference\n",
            "correct_lsb\n",
            "deepinterpolate\n",
            "deepinterpolation\n",
            "detect_bad_channels\n",
            "filter\n",
            "get_spatial_interpolation_kernel\n",
            "highpass_filter\n",
            "highpass_spatial_filter\n",
            "installed_preprocessers_list\n",
            "interpolate_bad_channels\n",
            "normalize_by_quantile\n",
            "normalize_scale\n",
            "notch_filter\n",
            "phase_shift\n",
            "preprocesser_dict\n",
            "preprocessers_full_list\n",
            "preprocessing_tools\n",
            "preprocessinglist\n",
            "rectify\n",
            "remove_artifacts\n",
            "resample\n",
            "scale\n",
            "whiten\n",
            "zero_channel_pad\n",
            "zscore\n"
          ]
        }
      ],
      "source": [
        "for method in dir(spikeinterface.preprocessing):\n",
        "    print(method)\n"
      ]
    },
    {
      "cell_type": "code",
      "execution_count": 39,
      "metadata": {
        "id": "yCer64_bF0kq"
      },
      "outputs": [],
      "source": [
        "preprocessing_step_dict = defaultdict(dict)"
      ]
    },
    {
      "cell_type": "code",
      "execution_count": 40,
      "metadata": {
        "id": "3hypL1OlF0kq"
      },
      "outputs": [],
      "source": [
        "preprocessing_step_dict[\"recording_raw\"] = recording_intermediate = recording"
      ]
    },
    {
      "cell_type": "code",
      "execution_count": 41,
      "metadata": {
        "scrolled": false,
        "id": "srpb_BnXF0kq",
        "colab": {
          "base_uri": "https://localhost:8080/"
        },
        "outputId": "b9150569-faf9-4675-84b3-cee11a63c03e"
      },
      "outputs": [
        {
          "output_type": "stream",
          "name": "stdout",
          "text": [
            "BandpassFilterRecording: 32 channels - 1 segments - 20.0kHz - 1200.564s\n"
          ]
        }
      ],
      "source": [
        "# Bandpass Filtering, keeping all the points that are within a certain frequency range\n",
        "recording_bandpass = sp.bandpass_filter(recording_intermediate, freq_min=300, freq_max=6000)\n",
        "recording_intermediate = sp.bandpass_filter(recording_intermediate, freq_min=300, freq_max=6000)\n",
        "preprocessing_step_dict[\"recording_bandpass\"] = recording_bandpass\n",
        "print(recording_bandpass)"
      ]
    },
    {
      "cell_type": "markdown",
      "source": [],
      "metadata": {
        "id": "76MkUoZjIHyF"
      }
    },
    {
      "cell_type": "code",
      "source": [
        "spikeinterface.preprocessing.detect_bad_channels(recording_intermediate)"
      ],
      "metadata": {
        "colab": {
          "base_uri": "https://localhost:8080/"
        },
        "id": "Yf_rlv1NIALU",
        "outputId": "c3320fa5-7ab0-4068-8916-ccadefe6cbe5"
      },
      "execution_count": 42,
      "outputs": [
        {
          "output_type": "execute_result",
          "data": {
            "text/plain": [
              "(array([], dtype='<U64'),\n",
              " array(['good', 'good', 'good', 'good', 'good', 'good', 'good', 'good',\n",
              "        'good', 'good', 'good', 'good', 'good', 'good', 'good', 'good',\n",
              "        'good', 'good', 'good', 'good', 'good', 'good', 'good', 'good',\n",
              "        'good', 'good', 'good', 'good', 'good', 'good', 'good', 'good'],\n",
              "       dtype='<U5'))"
            ]
          },
          "metadata": {},
          "execution_count": 42
        }
      ]
    },
    {
      "cell_type": "code",
      "execution_count": 43,
      "metadata": {
        "colab": {
          "base_uri": "https://localhost:8080/"
        },
        "id": "56efq9yGF0kq",
        "outputId": "782d2375-5df9-4f71-9902-02eb933ba2ba"
      },
      "outputs": [
        {
          "output_type": "stream",
          "name": "stdout",
          "text": [
            "CommonReferenceRecording: 32 channels - 1 segments - 20.0kHz - 1200.564s\n"
          ]
        }
      ],
      "source": [
        "# Re-referencing with common median reference\n",
        "recording_median_reference = sp.common_reference(recording_intermediate, reference='global', operator='median')\n",
        "recording_intermediate = sp.common_reference(recording_intermediate, reference='global', operator='median')\n",
        "preprocessing_step_dict[\"recording_median_reference\"] = recording_median_reference\n",
        "print(recording_median_reference)"
      ]
    },
    {
      "cell_type": "code",
      "execution_count": 44,
      "metadata": {
        "colab": {
          "base_uri": "https://localhost:8080/"
        },
        "id": "eupjmdAgF0kr",
        "outputId": "ab0a3c4d-ca95-4c9a-c4ae-26d961f60ba1"
      },
      "outputs": [
        {
          "output_type": "execute_result",
          "data": {
            "text/plain": [
              "defaultdict(dict,\n",
              "            {'recording_raw': SpikeGadgetsRecordingExtractor: 32 channels - 1 segments - 20.0kHz - 1200.564s\n",
              "               file_path: 20221219_124942_6_1_novel_merged.rec,\n",
              "             'recording_bandpass': BandpassFilterRecording: 32 channels - 1 segments - 20.0kHz - 1200.564s,\n",
              "             'recording_median_reference': CommonReferenceRecording: 32 channels - 1 segments - 20.0kHz - 1200.564s})"
            ]
          },
          "metadata": {},
          "execution_count": 44
        }
      ],
      "source": [
        "preprocessing_step_dict"
      ]
    },
    {
      "cell_type": "markdown",
      "metadata": {
        "id": "LATPO7WEF0kr"
      },
      "source": [
        "# Part 3: Visualization and EDA"
      ]
    },
    {
      "cell_type": "markdown",
      "metadata": {
        "id": "Ge4fQom_F0kr"
      },
      "source": [
        "## Plotting the Time Series"
      ]
    },
    {
      "cell_type": "markdown",
      "metadata": {
        "id": "V7uvxQOkF0kr"
      },
      "source": [
        "- Plotting with lines are better for recordings with smaller channel numbers"
      ]
    },
    {
      "cell_type": "code",
      "execution_count": 45,
      "metadata": {
        "id": "AB8GLdyoF0kr"
      },
      "outputs": [],
      "source": [
        "time_difference = 1"
      ]
    },
    {
      "cell_type": "code",
      "execution_count": 46,
      "metadata": {
        "id": "e-06mloaF0kr"
      },
      "outputs": [],
      "source": [
        "start_time = 300"
      ]
    },
    {
      "cell_type": "code",
      "execution_count": 47,
      "metadata": {
        "id": "jTFGsZUKF0kr"
      },
      "outputs": [],
      "source": [
        "time_range = [start_time, start_time + time_difference] "
      ]
    },
    {
      "cell_type": "code",
      "execution_count": 48,
      "metadata": {
        "colab": {
          "base_uri": "https://localhost:8080/",
          "height": 1000
        },
        "id": "SsjrwAtcF0kr",
        "outputId": "8462c86b-0844-4174-afd2-2589ba8e06fc"
      },
      "outputs": [
        {
          "output_type": "display_data",
          "data": {
            "text/plain": [
              "<Figure size 720x432 with 1 Axes>"
            ],
            "image/png": "[encoded data removed]"
          },
          "metadata": {
            "needs_background": "light"
          }
        },
        {
          "output_type": "display_data",
          "data": {
            "text/plain": [
              "<Figure size 720x432 with 1 Axes>"
            ],
            "image/png": "[encoded data removed]"
          },
          "metadata": {
            "needs_background": "light"
          }
        },
        {
          "output_type": "display_data",
          "data": {
            "text/plain": [
              "<Figure size 720x432 with 1 Axes>"
            ],
            "image/png": "[encoded data removed]"
          },
          "metadata": {
            "needs_background": "light"
          }
        }
      ],
      "source": [
        "for key, value in preprocessing_step_dict.items():\n",
        "    sw.plot_timeseries(value, time_range=(time_range[0], time_range[1]), show_channel_ids=True) #, figure=fig)\n",
        "    plt.title(\"Timeseries for Traces for {} step\".format(key))\n",
        "    plt.ylabel(\"Channels\")\n",
        "    plt.show()"
      ]
    },
    {
      "cell_type": "markdown",
      "metadata": {
        "id": "adTuVasIF0ks"
      },
      "source": [
        "- Looking more closely at a few of the channels\n",
        "    - The Channel IDs:"
      ]
    },
    {
      "cell_type": "code",
      "execution_count": 49,
      "metadata": {
        "colab": {
          "base_uri": "https://localhost:8080/"
        },
        "id": "7sqQb7VaF0ks",
        "outputId": "c9b182ab-ab17-40cc-e54b-058bd954ead6"
      },
      "outputs": [
        {
          "output_type": "execute_result",
          "data": {
            "text/plain": [
              "array(['0', '1', '2', '3', '4', '5', '6', '7', '8', '9', '10', '11', '12',\n",
              "       '13', '14', '15', '16', '17', '18', '19', '20', '21', '22', '23',\n",
              "       '24', '25', '26', '27', '28', '29', '30', '31'], dtype='<U64')"
            ]
          },
          "metadata": {},
          "execution_count": 49
        }
      ],
      "source": [
        "recording_intermediate.channel_ids"
      ]
    },
    {
      "cell_type": "code",
      "execution_count": 50,
      "metadata": {
        "id": "MWmg2661F0ks"
      },
      "outputs": [],
      "source": [
        "channel_ids = np.random.choice(recording_intermediate.channel_ids, size=5, replace=False)"
      ]
    },
    {
      "cell_type": "code",
      "execution_count": 51,
      "metadata": {
        "id": "3rgD72xqF0ks"
      },
      "outputs": [],
      "source": [
        "channel_ids = sorted(channel_ids, key=lambda x: float(x))"
      ]
    },
    {
      "cell_type": "code",
      "execution_count": 52,
      "metadata": {
        "colab": {
          "base_uri": "https://localhost:8080/"
        },
        "id": "5wapBQgkF0ks",
        "outputId": "d8aac347-7d21-4b57-8112-9b43baf0f211"
      },
      "outputs": [
        {
          "output_type": "execute_result",
          "data": {
            "text/plain": [
              "['5', '12', '13', '16', '26']"
            ]
          },
          "metadata": {},
          "execution_count": 52
        }
      ],
      "source": [
        "channel_ids"
      ]
    },
    {
      "cell_type": "markdown",
      "metadata": {
        "id": "YuN6tKA8F0ks"
      },
      "source": [
        "- If you want to use a specific set of channels, change the channels in the cell below and turn it into a `Code` cell"
      ]
    },
    {
      "cell_type": "code",
      "execution_count": 53,
      "metadata": {
        "id": "F3ecJ-umF0ks"
      },
      "outputs": [],
      "source": [
        "# Best channels with current setup\n",
        "channel_ids = [\"31\", \"17\", \"16\", \"15\", \"13\"]"
      ]
    },
    {
      "cell_type": "code",
      "execution_count": 54,
      "metadata": {
        "colab": {
          "base_uri": "https://localhost:8080/",
          "height": 1000
        },
        "id": "h6w_NjVVF0ks",
        "outputId": "fe66e473-1bc0-4e34-8558-623ade6dc13e"
      },
      "outputs": [
        {
          "output_type": "display_data",
          "data": {
            "text/plain": [
              "<Figure size 720x432 with 1 Axes>"
            ],
            "image/png": "[encoded data removed]"
          },
          "metadata": {
            "needs_background": "light"
          }
        },
        {
          "output_type": "display_data",
          "data": {
            "text/plain": [
              "<Figure size 720x432 with 1 Axes>"
            ],
            "image/png": "[encoded data removed]"
          },
          "metadata": {
            "needs_background": "light"
          }
        },
        {
          "output_type": "display_data",
          "data": {
            "text/plain": [
              "<Figure size 720x432 with 1 Axes>"
            ],
            "image/png": "[encoded data removed]"
          },
          "metadata": {
            "needs_background": "light"
          }
        }
      ],
      "source": [
        "for key, value in preprocessing_step_dict.items():\n",
        "    sw.plot_timeseries(value, time_range=time_range, channel_ids=channel_ids, show_channel_ids=True)\n",
        "    plt.title(\"Timeseries for Traces for {} step\".format(key))\n",
        "    plt.ylabel(\"Channels\")\n",
        "    \n",
        "    plt.legend().remove()\n",
        "    plt.show()"
      ]
    },
    {
      "cell_type": "markdown",
      "metadata": {
        "id": "EP3mTnKBF0kt"
      },
      "source": [
        "# Part 4: Saving the Preprocessed files to folder"
      ]
    },
    {
      "cell_type": "markdown",
      "metadata": {
        "id": "v9EtgliRF0ku"
      },
      "source": [
        "- Creating a directory within the recording directory for preprocessing and saving the preprocessed recordings into it "
      ]
    },
    {
      "cell_type": "code",
      "execution_count": 55,
      "metadata": {
        "id": "yDd4tOoLF0ku"
      },
      "outputs": [],
      "source": [
        "preprocessing_output_directory = os.path.join(parent_output_directory, \"preprocessing\")\n"
      ]
    },
    {
      "cell_type": "code",
      "execution_count": 56,
      "metadata": {
        "colab": {
          "base_uri": "https://localhost:8080/",
          "height": 66,
          "referenced_widgets": [
            "c70f4a7fd4024ce986d569bbb185a06c",
            "6fa717fee4444de7a808d764b359a4dd",
            "4f6eab267bf44ee89ef2775a7589ca1b",
            "f6d6e72248cc4dd18243e61774662aeb",
            "2895cfa08a864883947bbe70b13770b3",
            "d9c1fb78065a4278ab025abc09df581f",
            "ec5d029e61cd4a558f7b0307c5103c17",
            "fe6b7be04a5548aab1c6695cf52dd98f",
            "87eacc10b8ca4d859534c9e7470fd909",
            "d764cb4639c74562822ebbeb8a5c6eae",
            "a06a7e3dd9ac488c80cbc72b0b4eaf94"
          ]
        },
        "id": "j_kaJpCJF0ku",
        "outputId": "ea4a4d2e-b791-4582-cc95-c38cbd80a613"
      },
      "outputs": [
        {
          "output_type": "stream",
          "name": "stdout",
          "text": [
            "write_binary_recording with n_jobs = 1 and chunk_size = 20000\n"
          ]
        },
        {
          "output_type": "display_data",
          "data": {
            "text/plain": [
              "write_binary_recording:   0%|          | 0/1201 [00:00<?, ?it/s]"
            ],
            "application/vnd.jupyter.widget-view+json": {
              "version_major": 2,
              "version_minor": 0,
              "model_id": "c70f4a7fd4024ce986d569bbb185a06c"
            }
          },
          "metadata": {}
        }
      ],
      "source": [
        "if not os.path.exists(preprocessing_output_directory):\n",
        "    recording_intermediate.save_to_folder(name=\"preprocessing\", folder=preprocessing_output_directory)\n",
        "else:\n",
        "    warnings.warn(\"\"\"Directory already exists for: {}. \n",
        "    Either continue on if you are satisfied with the previous run \n",
        "    or delete the directory and run this cell again\"\"\".format(preprocessing_output_directory))"
      ]
    },
    {
      "cell_type": "markdown",
      "source": [
        "# Chapter 3: Spike Sorting"
      ],
      "metadata": {
        "id": "nmA4A65nKhTd"
      }
    },
    {
      "cell_type": "markdown",
      "metadata": {
        "id": "vEsb_mVPF0k0"
      },
      "source": [
        "Now you are ready to spike sort using the :code:`sorters` module!\n",
        "Let's first check which sorters are implemented and which are installed\n",
        "\n"
      ]
    },
    {
      "cell_type": "code",
      "execution_count": 57,
      "metadata": {
        "scrolled": false,
        "colab": {
          "base_uri": "https://localhost:8080/"
        },
        "id": "kS4TFJ8JF0k0",
        "outputId": "7c40ea29-0857-4350-cf05-34c226a4a99a"
      },
      "outputs": [
        {
          "output_type": "stream",
          "name": "stdout",
          "text": [
            "Available sorters ['combinato', 'hdsort', 'herdingspikes', 'ironclust', 'kilosort', 'kilosort2', 'kilosort2_5', 'kilosort3', 'klusta', 'mountainsort4', 'pykilosort', 'spykingcircus', 'spykingcircus2', 'tridesclous', 'tridesclous2', 'waveclus', 'waveclus_snippets', 'yass']\n"
          ]
        }
      ],
      "source": [
        "print('Available sorters', ss.available_sorters())"
      ]
    },
    {
      "cell_type": "markdown",
      "metadata": {
        "id": "lu7DhR6qF0k0"
      },
      "source": [
        "The :code:`ss.installed_sorters()` will list the sorters installed in the machine.\n",
        "We can see we have mountainsort4 and Tridesclous installed.\n",
        "Spike sorters come with a set of parameters that users can change.\n",
        "The available parameters are dictionaries and can be accessed with:\n",
        "\n"
      ]
    },
    {
      "cell_type": "markdown",
      "source": [
        "# NOTE: Change the name of the sorter if you want to use a different sorter"
      ],
      "metadata": {
        "id": "OmT57aF3n4gq"
      }
    },
    {
      "cell_type": "code",
      "execution_count": 58,
      "metadata": {
        "id": "GdRdc3V5F0k0"
      },
      "outputs": [],
      "source": [
        "sorter_name = 'mountainsort4'"
      ]
    },
    {
      "cell_type": "code",
      "execution_count": 59,
      "metadata": {
        "id": "NMewoaxpF0k1"
      },
      "outputs": [],
      "source": [
        "ss_params = ss.get_default_sorter_params(sorter_name)"
      ]
    },
    {
      "cell_type": "code",
      "execution_count": 60,
      "metadata": {
        "colab": {
          "base_uri": "https://localhost:8080/"
        },
        "id": "ds78IVHBF0k0",
        "outputId": "ee7fa7d4-f7ed-4b10-c590-95bed41559f7"
      },
      "outputs": [
        {
          "output_type": "stream",
          "name": "stdout",
          "text": [
            "{'detect_sign': -1, 'adjacency_radius': -1, 'freq_min': 300, 'freq_max': 6000, 'filter': True, 'whiten': True, 'num_workers': 1, 'clip_size': 50, 'detect_threshold': 3, 'detect_interval': 10, 'tempdir': None}\n"
          ]
        }
      ],
      "source": [
        "print(ss_params)"
      ]
    },
    {
      "cell_type": "markdown",
      "metadata": {
        "id": "yxp70MrZF0k0"
      },
      "source": [
        "Let's run a spike sorter and change one of the parameter, say, the detect_threshold:\n",
        "\n"
      ]
    },
    {
      "cell_type": "markdown",
      "metadata": {
        "id": "VodS7epRF0k1"
      },
      "source": [
        "- Changing the default parameters for these parameters"
      ]
    },
    {
      "cell_type": "code",
      "execution_count": 61,
      "metadata": {
        "id": "fp0YfEU9F0k1"
      },
      "outputs": [],
      "source": [
        "# To look for negative and positive peaks\n",
        "ss_params['detect_sign'] = 0\n",
        "# So that each channel is sorted all together\n",
        "ss_params['adjacency_radius'] = 700\n",
        "# False because we have already filtered the recordings\n",
        "ss_params['filter'] = False\n",
        "ss_params['num_workers'] = multiprocessing.cpu_count()"
      ]
    },
    {
      "cell_type": "code",
      "source": [
        "ss_params"
      ],
      "metadata": {
        "colab": {
          "base_uri": "https://localhost:8080/"
        },
        "id": "iaFATP4ppUXc",
        "outputId": "60ecf067-98f4-45f4-97e2-fc8474ab51e9"
      },
      "execution_count": 62,
      "outputs": [
        {
          "output_type": "execute_result",
          "data": {
            "text/plain": [
              "{'detect_sign': 0,\n",
              " 'adjacency_radius': 700,\n",
              " 'freq_min': 300,\n",
              " 'freq_max': 6000,\n",
              " 'filter': False,\n",
              " 'whiten': True,\n",
              " 'num_workers': 2,\n",
              " 'clip_size': 50,\n",
              " 'detect_threshold': 3,\n",
              " 'detect_interval': 10,\n",
              " 'tempdir': None}"
            ]
          },
          "metadata": {},
          "execution_count": 62
        }
      ]
    },
    {
      "cell_type": "markdown",
      "metadata": {
        "id": "rikF-Nh-F0k1"
      },
      "source": [
        "## Creating a folder for Spike Sorting Output"
      ]
    },
    {
      "cell_type": "markdown",
      "source": [
        "- Saving the parameters for the spike sorting"
      ],
      "metadata": {
        "id": "a5TqXq4bqA4O"
      }
    },
    {
      "cell_type": "code",
      "source": [
        "with open(os.path.join(parent_output_directory, \"ss_params.pkl\"), 'wb') as fp:\n",
        "    pickle.dump(ss_params, fp)"
      ],
      "metadata": {
        "id": "JZeCr4UbpYBf"
      },
      "execution_count": 63,
      "outputs": []
    },
    {
      "cell_type": "markdown",
      "metadata": {
        "id": "qASTKJ44F0k2"
      },
      "source": [
        "- Sorting usually takes at least a hour. Uncomment the code block below to run it. "
      ]
    },
    {
      "cell_type": "code",
      "execution_count": 64,
      "metadata": {
        "id": "lLR6vePoF0k2"
      },
      "outputs": [],
      "source": [
        "all_sorter_methods = [sorter for sorter in dir(ss) if sorter_name in sorter and \"run\" in sorter]"
      ]
    },
    {
      "cell_type": "code",
      "execution_count": 65,
      "metadata": {
        "colab": {
          "base_uri": "https://localhost:8080/"
        },
        "id": "XsnpH6RFF0k2",
        "outputId": "0035867a-d47e-4a3d-a6d3-fff9eef55e1a"
      },
      "outputs": [
        {
          "output_type": "execute_result",
          "data": {
            "text/plain": [
              "['run_mountainsort4']"
            ]
          },
          "metadata": {},
          "execution_count": 65
        }
      ],
      "source": [
        "all_sorter_methods"
      ]
    },
    {
      "cell_type": "code",
      "execution_count": 66,
      "metadata": {
        "id": "ETpCvNUnF0k2"
      },
      "outputs": [],
      "source": [
        "sorter_method_name = all_sorter_methods[0]"
      ]
    },
    {
      "cell_type": "code",
      "execution_count": 67,
      "metadata": {
        "id": "eU5lTlfLF0k2"
      },
      "outputs": [],
      "source": [
        "sorter_method_call = getattr(ss, sorter_method_name)"
      ]
    },
    {
      "cell_type": "code",
      "execution_count": 68,
      "metadata": {
        "colab": {
          "base_uri": "https://localhost:8080/"
        },
        "id": "iqe-4KJoF0k2",
        "outputId": "8581a562-d4b5-4bb7-cf95-1584f35826a1"
      },
      "outputs": [
        {
          "output_type": "execute_result",
          "data": {
            "text/plain": [
              "<function spikeinterface.sorters.runsorter.run_mountainsort4(*args, **kwargs)>"
            ]
          },
          "metadata": {},
          "execution_count": 68
        }
      ],
      "source": [
        "sorter_method_call"
      ]
    },
    {
      "cell_type": "code",
      "execution_count": 69,
      "metadata": {
        "id": "l6IjuP1mF0k2"
      },
      "outputs": [],
      "source": [
        "child_spikesorting_output_directory = os.path.join(parent_output_directory,\"ss_output\")"
      ]
    },
    {
      "cell_type": "code",
      "execution_count": 71,
      "metadata": {
        "colab": {
          "base_uri": "https://localhost:8080/"
        },
        "id": "dJJHznAkF0k2",
        "outputId": "b76c5461-cfe1-41cb-d987-e95033630cc9"
      },
      "outputs": [
        {
          "output_type": "stream",
          "name": "stdout",
          "text": [
            "whitening\n",
            "Mountainsort4 use the OLD spikeextractors mapped with NewToOldRecording\n",
            "Using temporary directory None\n",
            "Using 2 workers.\n",
            "Using tempdir: /tmp/tmp2x85bw6t\n",
            "Num. workers = 2\n",
            "Preparing /tmp/tmp2x85bw6t/timeseries.hdf5...\n",
            "Preparing neighborhood sorters (M=32, N=24011275)...\n",
            "Preparing output...\n",
            "Done with ms4alg.\n",
            "Cleaning tempdir::::: /tmp/tmp2x85bw6t\n",
            "mountainsort4 run time 2850.50s\n"
          ]
        },
        {
          "output_type": "execute_result",
          "data": {
            "text/plain": [
              "NpzSortingExtractor: 89 units - 1 segments - 20.0kHz\n",
              "  file_path: /content/proc/20221219_124942_6_1_novel_merged/ss_output/sorter_output/firings.npz"
            ]
          },
          "metadata": {},
          "execution_count": 71
        }
      ],
      "source": [
        "sorter_method_call(recording=recording_intermediate,\n",
        "                              verbose=True,\n",
        "                                output_folder=child_spikesorting_output_directory,\n",
        "                                **ss_params)"
      ]
    },
    {
      "cell_type": "code",
      "execution_count": 72,
      "metadata": {
        "scrolled": true,
        "id": "wLE_XLySF0k2"
      },
      "outputs": [],
      "source": [
        "spike_sorted_object = ss.read_sorter_folder(child_spikesorting_output_directory)"
      ]
    },
    {
      "cell_type": "markdown",
      "metadata": {
        "id": "viqp0-hnF0k2"
      },
      "source": [
        "- Plotting the Rasters"
      ]
    },
    {
      "cell_type": "code",
      "source": [
        "start_time, start_time + duration"
      ],
      "metadata": {
        "id": "uwMtXgdSo7JM",
        "colab": {
          "base_uri": "https://localhost:8080/"
        },
        "outputId": "e26e738b-0102-4b96-a26e-c406a70f50e2"
      },
      "execution_count": 73,
      "outputs": [
        {
          "output_type": "execute_result",
          "data": {
            "text/plain": [
              "(300, 24011575)"
            ]
          },
          "metadata": {},
          "execution_count": 73
        }
      ]
    },
    {
      "cell_type": "code",
      "execution_count": 74,
      "metadata": {
        "id": "QILrXoovF0k2",
        "colab": {
          "base_uri": "https://localhost:8080/",
          "height": 405
        },
        "outputId": "598807c8-3db8-45ac-f9ec-887a98f2c34a"
      },
      "outputs": [
        {
          "output_type": "execute_result",
          "data": {
            "text/plain": [
              "Text(0, 0.5, 'Unit IDs')"
            ]
          },
          "metadata": {},
          "execution_count": 74
        },
        {
          "output_type": "display_data",
          "data": {
            "text/plain": [
              "<Figure size 720x432 with 1 Axes>"
            ],
            "image/png": "[encoded data removed]"
          },
          "metadata": {
            "needs_background": "light"
          }
        }
      ],
      "source": [
        "sw.plot_rasters(spike_sorted_object, time_range=time_range)\n",
        "plt.ylabel(\"Unit IDs\")"
      ]
    },
    {
      "cell_type": "code",
      "execution_count": 75,
      "metadata": {
        "id": "fxgTNxnkqf__"
      },
      "outputs": [],
      "source": [
        "unit_ids = np.random.choice(spike_sorted_object.get_unit_ids(), size=5, replace=False)"
      ]
    },
    {
      "cell_type": "code",
      "execution_count": 76,
      "metadata": {
        "id": "vTn-ykW7qf__"
      },
      "outputs": [],
      "source": [
        "unit_ids = sorted(unit_ids, key=lambda x: float(x))"
      ]
    },
    {
      "cell_type": "code",
      "execution_count": 77,
      "metadata": {
        "id": "EbUIV363F0k3",
        "colab": {
          "base_uri": "https://localhost:8080/",
          "height": 405
        },
        "outputId": "0c25f392-49a0-4249-d8c4-85a9d9539bf6"
      },
      "outputs": [
        {
          "output_type": "execute_result",
          "data": {
            "text/plain": [
              "Text(0, 0.5, 'Unit IDs')"
            ]
          },
          "metadata": {},
          "execution_count": 77
        },
        {
          "output_type": "display_data",
          "data": {
            "text/plain": [
              "<Figure size 720x432 with 1 Axes>"
            ],
            "image/png": "[encoded data removed]"
          },
          "metadata": {
            "needs_background": "light"
          }
        }
      ],
      "source": [
        "sw.plot_rasters(spike_sorted_object, time_range=time_range, unit_ids=unit_ids)\n",
        "plt.ylabel(\"Unit IDs\")"
      ]
    },
    {
      "cell_type": "markdown",
      "source": [
        "# Chapter 4: Post Processing"
      ],
      "metadata": {
        "id": "_4wh3B7qMQnr"
      }
    },
    {
      "cell_type": "markdown",
      "metadata": {
        "id": "lwF9-hNCF0k6"
      },
      "source": [
        "- Different resources to look at for Post Processing\n",
        "    - https://spikeinterface.readthedocs.io/en/latest/modules/toolkit/plot_2_postprocessing.html\n",
        "    - https://github.com/SpikeInterface/spiketutorials/blob/master/Official_Tutorial_SI_0.90_Aug2021/SpikeInterface_Tutorial.ipynb\n",
        "    - https://spikeinterface.readthedocs.io/en/latest/modules/toolkit/plot_3_quality_mertics.html\n",
        "    - https://catalystneuro.github.io/spike-sorting-hackathon/"
      ]
    },
    {
      "cell_type": "markdown",
      "metadata": {
        "id": "OH1AkB0zF0k6"
      },
      "source": [
        "## Creating a folder for Spike Sorting Output"
      ]
    },
    {
      "cell_type": "markdown",
      "metadata": {
        "id": "MDrzZVeZF0k6"
      },
      "source": [
        "- Creating a directory within the spike sorting directory for saving extracted waveforms "
      ]
    },
    {
      "cell_type": "code",
      "execution_count": 13,
      "metadata": {
        "id": "GiXAslhCF0k6",
        "colab": {
          "base_uri": "https://localhost:8080/",
          "height": 165
        },
        "outputId": "acd9db84-9a84-4014-a15c-96db8f1a1ddc"
      },
      "outputs": [
        {
          "output_type": "error",
          "ename": "NameError",
          "evalue": "ignored",
          "traceback": [
            "\u001b[0;31m---------------------------------------------------------------------------\u001b[0m",
            "\u001b[0;31mNameError\u001b[0m                                 Traceback (most recent call last)",
            "\u001b[0;32m<ipython-input-13-bf9e54f70bbe>\u001b[0m in \u001b[0;36m<module>\u001b[0;34m\u001b[0m\n\u001b[0;32m----> 1\u001b[0;31m \u001b[0mwaveform_output_directory\u001b[0m \u001b[0;34m=\u001b[0m \u001b[0mos\u001b[0m\u001b[0;34m.\u001b[0m\u001b[0mpath\u001b[0m\u001b[0;34m.\u001b[0m\u001b[0mjoin\u001b[0m\u001b[0;34m(\u001b[0m\u001b[0mparent_output_directory\u001b[0m\u001b[0;34m,\u001b[0m \u001b[0;34m\"waveforms\"\u001b[0m\u001b[0;34m)\u001b[0m\u001b[0;34m\u001b[0m\u001b[0;34m\u001b[0m\u001b[0m\n\u001b[0m",
            "\u001b[0;31mNameError\u001b[0m: name 'parent_output_directory' is not defined"
          ]
        }
      ],
      "source": [
        "waveform_output_directory = os.path.join(parent_output_directory, \"waveforms\")"
      ]
    },
    {
      "cell_type": "code",
      "execution_count": 14,
      "metadata": {
        "id": "SJzWOng2F0k6",
        "colab": {
          "base_uri": "https://localhost:8080/",
          "height": 165
        },
        "outputId": "55b3b2ca-daf3-4cb5-eeb8-990a7c105522"
      },
      "outputs": [
        {
          "output_type": "error",
          "ename": "NameError",
          "evalue": "ignored",
          "traceback": [
            "\u001b[0;31m---------------------------------------------------------------------------\u001b[0m",
            "\u001b[0;31mNameError\u001b[0m                                 Traceback (most recent call last)",
            "\u001b[0;32m<ipython-input-14-f9be13db485e>\u001b[0m in \u001b[0;36m<module>\u001b[0;34m\u001b[0m\n\u001b[0;32m----> 1\u001b[0;31m \u001b[0mwaveform_output_directory\u001b[0m\u001b[0;34m\u001b[0m\u001b[0;34m\u001b[0m\u001b[0m\n\u001b[0m",
            "\u001b[0;31mNameError\u001b[0m: name 'waveform_output_directory' is not defined"
          ]
        }
      ],
      "source": [
        "waveform_output_directory"
      ]
    },
    {
      "cell_type": "markdown",
      "metadata": {
        "id": "QvDmAZRUF0k6"
      },
      "source": [
        "## Extracting Waveforms"
      ]
    },
    {
      "cell_type": "markdown",
      "metadata": {
        "id": "40VjXn2lF0k6"
      },
      "source": [
        "- The WaveformExtractor class:\n",
        "    - randomly samples a subset spikes with max_spikes_per_unit\n",
        "    - extracts all waveforms snippets for each unit\n",
        "    - saves waveforms in a local folder\n",
        "    - can load stored waveforms\n",
        "    - retrieves template (average or median waveform) for each unit\n",
        "    - https://spikeinterface.readthedocs.io/en/latest/modules/core/plot_4_waveform_extractor.html\n",
        "\n"
      ]
    },
    {
      "cell_type": "markdown",
      "metadata": {
        "id": "OQAntDttF0k6"
      },
      "source": [
        "- Extracting waveforms from preprocessed recordings and spike sorted output from spike_sorted \n",
        "    - Based on Maya's settings in recorded video \n",
        "    - Saving to folder"
      ]
    },
    {
      "cell_type": "code",
      "execution_count": 5,
      "metadata": {
        "id": "iuJEpFOmF0k7",
        "colab": {
          "base_uri": "https://localhost:8080/",
          "height": 252
        },
        "outputId": "7c5b737c-7b8e-4ba5-e90f-e851ae992508"
      },
      "outputs": [
        {
          "output_type": "error",
          "ename": "NameError",
          "evalue": "ignored",
          "traceback": [
            "\u001b[0;31m---------------------------------------------------------------------------\u001b[0m",
            "\u001b[0;31mNameError\u001b[0m                                 Traceback (most recent call last)",
            "\u001b[0;32m<ipython-input-5-a52301afa831>\u001b[0m in \u001b[0;36m<module>\u001b[0;34m\u001b[0m\n\u001b[0;32m----> 1\u001b[0;31m we_spike_sorted = si.extract_waveforms(recording=recording_intermediate, \n\u001b[0m\u001b[1;32m      2\u001b[0m                                        \u001b[0msorting\u001b[0m\u001b[0;34m=\u001b[0m\u001b[0mspike_sorted_object\u001b[0m\u001b[0;34m,\u001b[0m \u001b[0mfolder\u001b[0m\u001b[0;34m=\u001b[0m\u001b[0mwaveform_output_directory\u001b[0m\u001b[0;34m,\u001b[0m\u001b[0;34m\u001b[0m\u001b[0;34m\u001b[0m\u001b[0m\n\u001b[1;32m      3\u001b[0m                                       \u001b[0mms_before\u001b[0m\u001b[0;34m=\u001b[0m\u001b[0;36m1\u001b[0m\u001b[0;34m,\u001b[0m \u001b[0mms_after\u001b[0m\u001b[0;34m=\u001b[0m\u001b[0;36m1\u001b[0m\u001b[0;34m,\u001b[0m \u001b[0mprogress_bar\u001b[0m\u001b[0;34m=\u001b[0m\u001b[0;32mTrue\u001b[0m\u001b[0;34m,\u001b[0m\u001b[0;34m\u001b[0m\u001b[0;34m\u001b[0m\u001b[0m\n\u001b[1;32m      4\u001b[0m                                       \u001b[0mn_jobs\u001b[0m\u001b[0;34m=\u001b[0m\u001b[0;36m8\u001b[0m\u001b[0;34m,\u001b[0m \u001b[0mtotal_memory\u001b[0m\u001b[0;34m=\u001b[0m\u001b[0;34m\"1G\"\u001b[0m\u001b[0;34m,\u001b[0m \u001b[0moverwrite\u001b[0m\u001b[0;34m=\u001b[0m\u001b[0;32mTrue\u001b[0m\u001b[0;34m,\u001b[0m\u001b[0;34m\u001b[0m\u001b[0;34m\u001b[0m\u001b[0m\n\u001b[1;32m      5\u001b[0m                                        max_spikes_per_unit=2000)\n",
            "\u001b[0;31mNameError\u001b[0m: name 'si' is not defined"
          ]
        }
      ],
      "source": [
        "we_spike_sorted = si.extract_waveforms(recording=recording_intermediate, \n",
        "                                       sorting=spike_sorted_object, folder=waveform_output_directory,\n",
        "                                      ms_before=1, ms_after=1, progress_bar=True,\n",
        "                                      n_jobs=8, total_memory=\"1G\", overwrite=True,\n",
        "                                       max_spikes_per_unit=2000)"
      ]
    },
    {
      "cell_type": "markdown",
      "metadata": {
        "id": "xs6MAoLoF0k7"
      },
      "source": [
        "- Loading from folder"
      ]
    },
    {
      "cell_type": "code",
      "execution_count": null,
      "metadata": {
        "id": "GiFmWBjBF0k7"
      },
      "outputs": [],
      "source": [
        "we_spike_sorted = WaveformExtractor.load_from_folder(waveform_output_directory)"
      ]
    },
    {
      "cell_type": "markdown",
      "metadata": {
        "id": "6zfC242nF0k7"
      },
      "source": [
        "- Make into code cell if you want to look at details of waveform extraction"
      ]
    },
    {
      "cell_type": "code",
      "source": [
        "si.extract_waveforms??"
      ],
      "metadata": {
        "id": "h3VQbG_aucQl"
      },
      "execution_count": null,
      "outputs": []
    },
    {
      "cell_type": "markdown",
      "metadata": {
        "id": "g7-RmHgFF0k9"
      },
      "source": [
        "# Exporting for Manual Curation"
      ]
    },
    {
      "cell_type": "markdown",
      "metadata": {
        "id": "y7TRKw23F0k9"
      },
      "source": [
        "Once we have the  `WaveformExtractor` object\n",
        "we can post-process, validate, and curate the results. With\n",
        "the :code:`toolkit.postprocessing` submodule, one can, for example,\n",
        "get waveforms, templates, maximum channels, PCA scores, or export the data\n",
        "to Phy. `Phy <https://github.com/cortex-lab/phy>`_ is a GUI for manual\n",
        "curation of the spike sorting output. To export to phy you can run:\n",
        "\n"
      ]
    },
    {
      "cell_type": "code",
      "source": [
        "si.WaveformExtractor??"
      ],
      "metadata": {
        "id": "eUmAi91Aujmq",
        "colab": {
          "base_uri": "https://localhost:8080/"
        },
        "outputId": "c3e31d02-fe7c-4198-ff94-8c7c04c62710"
      },
      "execution_count": 1,
      "outputs": [
        {
          "output_type": "stream",
          "name": "stdout",
          "text": [
            "Object `si.WaveformExtractor` not found.\n"
          ]
        }
      ]
    },
    {
      "cell_type": "code",
      "execution_count": 2,
      "metadata": {
        "id": "x00llSALF0k9",
        "colab": {
          "base_uri": "https://localhost:8080/",
          "height": 165
        },
        "outputId": "6e1d6c19-9c17-474c-cb4f-5613bf8b8191"
      },
      "outputs": [
        {
          "output_type": "error",
          "ename": "NameError",
          "evalue": "ignored",
          "traceback": [
            "\u001b[0;31m---------------------------------------------------------------------------\u001b[0m",
            "\u001b[0;31mNameError\u001b[0m                                 Traceback (most recent call last)",
            "\u001b[0;32m<ipython-input-2-f6210b6b65fb>\u001b[0m in \u001b[0;36m<module>\u001b[0;34m\u001b[0m\n\u001b[0;32m----> 1\u001b[0;31m \u001b[0mphy_output_directory\u001b[0m \u001b[0;34m=\u001b[0m \u001b[0mos\u001b[0m\u001b[0;34m.\u001b[0m\u001b[0mpath\u001b[0m\u001b[0;34m.\u001b[0m\u001b[0mjoin\u001b[0m\u001b[0;34m(\u001b[0m\u001b[0mparent_output_directory\u001b[0m\u001b[0;34m,\u001b[0m \u001b[0;34m\"phy\"\u001b[0m\u001b[0;34m)\u001b[0m\u001b[0;34m\u001b[0m\u001b[0;34m\u001b[0m\u001b[0m\n\u001b[0m",
            "\u001b[0;31mNameError\u001b[0m: name 'os' is not defined"
          ]
        }
      ],
      "source": [
        "phy_output_directory = os.path.join(parent_output_directory, \"phy\")"
      ]
    },
    {
      "cell_type": "code",
      "execution_count": null,
      "metadata": {
        "id": "dvSYE8k3F0k9"
      },
      "outputs": [],
      "source": [
        "phy_output_directory"
      ]
    },
    {
      "cell_type": "code",
      "source": [
        "export_to_phy??"
      ],
      "metadata": {
        "id": "nwYdd59Uwb2p"
      },
      "execution_count": null,
      "outputs": []
    },
    {
      "cell_type": "code",
      "source": [
        "import multiprocessing\n",
        "\n",
        "cores = multiprocessing.cpu_count() # Count the number of cores in a computer\n",
        "cores"
      ],
      "metadata": {
        "id": "_jNNpz4W5FYK"
      },
      "execution_count": null,
      "outputs": []
    },
    {
      "cell_type": "code",
      "source": [
        "\n",
        "# Importing the library\n",
        "import psutil\n",
        " \n",
        "# Getting % usage of virtual_memory ( 3rd field)\n",
        "print('RAM memory % used:', psutil.virtual_memory()[2])\n",
        "# Getting usage of virtual_memory in GB ( 4th field)\n",
        "print('RAM Used (GB):', psutil.virtual_memory()[3]/1000000000)"
      ],
      "metadata": {
        "id": "0hXTN_mExwY3"
      },
      "execution_count": null,
      "outputs": []
    },
    {
      "cell_type": "code",
      "source": [
        "psutil.virtual_memory().total/1000000000 "
      ],
      "metadata": {
        "id": "R0i6gBxnyFdJ"
      },
      "execution_count": null,
      "outputs": []
    },
    {
      "cell_type": "code",
      "source": [
        "export_to_phy(we_spike_sorted, phy_output_directory, compute_pc_features=True, compute_amplitudes=True, n_jobs=-1, verbose=True, mp_context=\"fork\", total_memory=\"32G\", chunk_size=5000)"
      ],
      "metadata": {
        "id": "5zMDdSoMvwDh"
      },
      "execution_count": null,
      "outputs": []
    },
    {
      "cell_type": "code",
      "source": [
        "!zip -r ./proc.zip ./proc"
      ],
      "metadata": {
        "id": "SvU5JZU4MDL3"
      },
      "execution_count": null,
      "outputs": []
    },
    {
      "cell_type": "code",
      "source": [
        "files.download(\"./proc.zip\")"
      ],
      "metadata": {
        "id": "cnCuG5E7H998"
      },
      "execution_count": null,
      "outputs": []
    },
    {
      "cell_type": "markdown",
      "metadata": {
        "id": "2CxDAvnBF0k9"
      },
      "source": [
        "## **Then you can run the template-gui with: `phy template-gui phy/params.py`\n",
        "and manually curate the results.**\n",
        "\n"
      ]
    },
    {
      "cell_type": "code",
      "source": [
        "raise ValueError(\"Following cells are for visualization and quality checking.\")"
      ],
      "metadata": {
        "id": "le1NuEf-uwz0"
      },
      "execution_count": null,
      "outputs": []
    },
    {
      "cell_type": "markdown",
      "metadata": {
        "id": "mYULCVcdF0k9"
      },
      "source": [
        "## Signal to Noise Ratio of Each Unit"
      ]
    },
    {
      "cell_type": "markdown",
      "metadata": {
        "id": "mBjv0saxF0k9"
      },
      "source": [
        "- Calculating Signal to Noise Ratio"
      ]
    },
    {
      "cell_type": "code",
      "execution_count": null,
      "metadata": {
        "id": "QvlKRhZTF0k-"
      },
      "outputs": [],
      "source": [
        "we_spike_sorted"
      ]
    },
    {
      "cell_type": "code",
      "execution_count": null,
      "metadata": {
        "id": "hC9t0ZyuF0k-"
      },
      "outputs": [],
      "source": [
        "we_spike_sorted_signal_to_noise = st.compute_snrs(we_spike_sorted).values()"
      ]
    },
    {
      "cell_type": "code",
      "execution_count": null,
      "metadata": {
        "id": "zYy0XEioF0k-"
      },
      "outputs": [],
      "source": [
        "we_spike_sorted_signal_to_noise"
      ]
    },
    {
      "cell_type": "code",
      "execution_count": null,
      "metadata": {
        "id": "u-OGQou_F0k-"
      },
      "outputs": [],
      "source": [
        "len(we_spike_sorted_signal_to_noise)"
      ]
    },
    {
      "cell_type": "markdown",
      "metadata": {
        "id": "FPQyxvJcF0k-"
      },
      "source": [
        "- Filtering the Units that have higher signal to noise ratios\n",
        "    - **NOTE**: If the histogram does not show enough information, either raise or lower the number of bins"
      ]
    },
    {
      "cell_type": "code",
      "execution_count": null,
      "metadata": {
        "id": "yRW7pbkKF0k-"
      },
      "outputs": [],
      "source": [
        "plt.hist(we_spike_sorted_signal_to_noise, bins=23)"
      ]
    },
    {
      "cell_type": "markdown",
      "metadata": {
        "id": "oYdpbOz9F0k-"
      },
      "source": [
        "- Creating a mask based on whether the SNR ratio is higher than what we specified\n",
        "    - **NOTE**: Change the minimum signal to noise ratio based on the number of units that you want"
      ]
    },
    {
      "cell_type": "code",
      "execution_count": null,
      "metadata": {
        "id": "0v_3ud4RF0k-"
      },
      "outputs": [],
      "source": [
        "mask = np.array(list(we_spike_sorted_signal_to_noise)) > 12"
      ]
    },
    {
      "cell_type": "code",
      "execution_count": null,
      "metadata": {
        "id": "XGsJUnxyF0k-"
      },
      "outputs": [],
      "source": [
        "mask"
      ]
    },
    {
      "cell_type": "code",
      "execution_count": null,
      "metadata": {
        "id": "fQQaZIAGF0k-"
      },
      "outputs": [],
      "source": [
        "spike_sorted_object.get_unit_ids()"
      ]
    },
    {
      "cell_type": "markdown",
      "metadata": {
        "id": "aM84pAKZF0k-"
      },
      "source": [
        "- We will get a list of all the Unit IDs that have higher SNR ratios based on the indexes of these units in the mask"
      ]
    },
    {
      "cell_type": "code",
      "execution_count": null,
      "metadata": {
        "id": "UtiPJkt8F0k-"
      },
      "outputs": [],
      "source": [
        "high_snr_units = spike_sorted_object.get_unit_ids()[mask]"
      ]
    },
    {
      "cell_type": "code",
      "execution_count": null,
      "metadata": {
        "id": "KiKNV7x2F0k_"
      },
      "outputs": [],
      "source": [
        "high_snr_units"
      ]
    },
    {
      "cell_type": "code",
      "execution_count": null,
      "metadata": {
        "id": "y2id5gjGF0k_"
      },
      "outputs": [],
      "source": [
        "len(spike_sorted_object.get_unit_ids()[mask])"
      ]
    },
    {
      "cell_type": "markdown",
      "metadata": {
        "id": "um2M_6mMF0k_"
      },
      "source": [
        "## Plotting the Waveforms for a single unit"
      ]
    },
    {
      "cell_type": "markdown",
      "metadata": {
        "id": "v3SgQ6oiF0k_"
      },
      "source": [
        "- Each column represents a single channel\n",
        "    - We are plotting the units with the highest signal to noise ratio\n",
        "    - **NOTE**: Channels can be zero indexed, so the first channel will be numbered zero. Second will be one. And so on"
      ]
    },
    {
      "cell_type": "code",
      "execution_count": null,
      "metadata": {
        "id": "MYptv_RcF0k_"
      },
      "outputs": [],
      "source": [
        "we_spike_sorted"
      ]
    },
    {
      "cell_type": "markdown",
      "metadata": {
        "id": "_wZhecc0F0k_"
      },
      "source": [
        "- TODO: Change X ticks so that they correspond to channel ID's"
      ]
    },
    {
      "cell_type": "code",
      "execution_count": null,
      "metadata": {
        "id": "r57jAGkeF0k_"
      },
      "outputs": [],
      "source": [
        "for unit_id in high_snr_units:\n",
        "    w = sw.plot_unit_waveforms(we_spike_sorted, unit_ids=[unit_id], plot_templates=True, plot_channels=True)"
      ]
    },
    {
      "cell_type": "code",
      "execution_count": null,
      "metadata": {
        "id": "nLZdbju3F0k_"
      },
      "outputs": [],
      "source": [
        "for unit_id in high_snr_units:\n",
        "    w = sw.plot_unit_templates(we_spike_sorted, unit_ids=[unit_id])\n",
        "\n"
      ]
    },
    {
      "cell_type": "code",
      "execution_count": null,
      "metadata": {
        "id": "bGzarPZpF0k_"
      },
      "outputs": [],
      "source": [
        "w = sw.plot_unit_probe_map(we_spike_sorted, unit_ids=[1])\n"
      ]
    },
    {
      "cell_type": "markdown",
      "metadata": {
        "id": "dsOGjbWPF0k_"
      },
      "source": [
        "## Plotting the Waveforms for a single channel"
      ]
    },
    {
      "cell_type": "markdown",
      "metadata": {
        "id": "0RyxBAMJF0k_"
      },
      "source": [
        "- Plotting the Average Waveforms (AKA Unit templates)"
      ]
    },
    {
      "cell_type": "code",
      "execution_count": null,
      "metadata": {
        "id": "AGWkPcQOF0lA"
      },
      "outputs": [],
      "source": [
        "for index, channel in enumerate(recording_preprocessed.get_channel_ids()):\n",
        "    number_of_units_to_plot = len(high_snr_units)\n",
        "    colors = iter(cm.rainbow(np.linspace(0, 1, number_of_units_to_plot)))\n",
        "\n",
        "    fig, ax = plt.subplots()\n",
        "    for i, unit_id in enumerate(high_snr_units[:number_of_units_to_plot]):\n",
        "        template = we_spike_sorted.get_template(unit_id)\n",
        "        color = next(colors)\n",
        "        ax.plot(template[:, index].T, color=color, lw=3, label=unit_id)\n",
        "    ax.legend()\n",
        "    ax.set_title(\"Average waveforms for channel: {}\".format(channel))\n",
        "    plt.show()\n",
        "    plt.close()"
      ]
    },
    {
      "cell_type": "markdown",
      "metadata": {
        "id": "DoNtQ43DF0lA"
      },
      "source": [
        "- Plotting the Unit Summary for the high snr units"
      ]
    },
    {
      "cell_type": "code",
      "execution_count": null,
      "metadata": {
        "id": "Q2N87OfrF0lA"
      },
      "outputs": [],
      "source": [
        "for index, unit_id in enumerate(high_snr_units):\n",
        "    w = sw.plot_unit_summary(we_spike_sorted, unit_id=unit_id)\n",
        "    plt.show()\n",
        "    plt.close()"
      ]
    },
    {
      "cell_type": "markdown",
      "metadata": {
        "id": "pbFLKk1KF0lA"
      },
      "source": [
        "- Plotting the Unit Summary for the low snr units"
      ]
    },
    {
      "cell_type": "code",
      "execution_count": null,
      "metadata": {
        "id": "kCkP-xhcF0lA"
      },
      "outputs": [],
      "source": [
        "for index, unit_id in enumerate(spike_sorted_object.get_unit_ids()[~mask]):\n",
        "    w = sw.plot_unit_summary(we_spike_sorted, unit_id=unit_id)\n",
        "    plt.show()\n",
        "    plt.close()"
      ]
    },
    {
      "cell_type": "markdown",
      "metadata": {
        "id": "qBL2zNaHF0lA"
      },
      "source": [
        "- Waveform and Template Shapes\n",
        "    - For waveforms, the dimension is (num_spikes, num_samples, num_channels), while each template has dimension (num_samples, num_channels). "
      ]
    },
    {
      "cell_type": "code",
      "execution_count": null,
      "metadata": {
        "scrolled": true,
        "id": "xZLPj8jXF0lA"
      },
      "outputs": [],
      "source": [
        "unit_id = high_snr_units[0]\n",
        "\n",
        "waveforms = we_spike_sorted.get_waveforms(unit_id=unit_id)\n",
        "print(f\"Waveforms shape: {waveforms.shape}\")\n",
        "template = we_spike_sorted.get_template(unit_id=unit_id)\n",
        "print(f\"Template shape: {template.shape}\")\n",
        "all_templates = we_spike_sorted.get_all_templates()\n",
        "print(f\"All templates shape: {all_templates.shape}\")\n",
        "\n"
      ]
    },
    {
      "cell_type": "markdown",
      "metadata": {
        "id": "tcQvSw7rF0lA"
      },
      "source": [
        "- The number of spikes for other waveforms\n",
        "    - All are num waveforms are maxed out because we specied with the Waveform Extractor"
      ]
    },
    {
      "cell_type": "code",
      "execution_count": null,
      "metadata": {
        "id": "63w28UNiF0lA"
      },
      "outputs": [],
      "source": [
        "unit_to_waveform_and_spike_number = defaultdict(dict)\n",
        "for unit in spike_sorted_object.get_unit_ids():\n",
        "    waveforms = we_spike_sorted.get_waveforms(unit_id=unit)\n",
        "    spiketrain = spike_sorted_object.get_unit_spike_train(unit)\n",
        "#     print(f\"Unit {unit} - num waveforms: {waveforms.shape[0]} - num spikes: {len(spiketrain)}\")\n",
        "    unit_to_waveform_and_spike_number[unit][\"number_of_waveforms\"] = waveforms.shape[0]\n",
        "    unit_to_waveform_and_spike_number[unit][\"number_of_spikes\"] = len(spiketrain)\n"
      ]
    },
    {
      "cell_type": "code",
      "execution_count": null,
      "metadata": {
        "id": "bLBk6TFSF0lB"
      },
      "outputs": [],
      "source": [
        "unit_to_waveform_and_spike_number"
      ]
    },
    {
      "cell_type": "markdown",
      "metadata": {
        "id": "qHbqolV_F0lB"
      },
      "source": [
        "# PCA Scores"
      ]
    },
    {
      "cell_type": "markdown",
      "metadata": {
        "id": "rdC2VnrGF0lB"
      },
      "source": [
        "PCA scores can be easily computed with the `compute_principal_components()` function. Similarly to the `extract_waveforms`, the function returns an object of type `WaveformPrincipalComponent` that allows to retrieve all pc scores on demand."
      ]
    },
    {
      "cell_type": "markdown",
      "metadata": {
        "id": "F8cpqAIaF0lB"
      },
      "source": [
        "### Getting the Principal Components"
      ]
    },
    {
      "cell_type": "raw",
      "metadata": {
        "id": "1rgAexs3F0lB"
      },
      "source": [
        "st.compute_principal_components?"
      ]
    },
    {
      "cell_type": "markdown",
      "metadata": {
        "id": "vb6gHEbbF0lB"
      },
      "source": [
        "- Calculating Principal Components\n",
        "    - We will first be using the local channel option"
      ]
    },
    {
      "cell_type": "code",
      "execution_count": null,
      "metadata": {
        "id": "uZa-lDuJF0lB"
      },
      "outputs": [],
      "source": [
        "pc = st.compute_principal_components(we_spike_sorted, load_if_exists=True,\n",
        "                                     n_components=3, mode='by_channel_local')\n"
      ]
    },
    {
      "cell_type": "code",
      "execution_count": null,
      "metadata": {
        "id": "zjlKLoxkF0lB"
      },
      "outputs": [],
      "source": [
        "len(spike_sorted_object.get_unit_ids())"
      ]
    },
    {
      "cell_type": "code",
      "execution_count": null,
      "metadata": {
        "id": "XHdpu4JTF0lB"
      },
      "outputs": [],
      "source": [
        "spike_sorted_object.get_unit_ids()[0]"
      ]
    },
    {
      "cell_type": "markdown",
      "metadata": {
        "id": "1Zlmi6fpF0lB"
      },
      "source": [
        "- For pc scores of a single unit, the dimension is (num_spikes, num_components, num_channels). The get_all_components() function returns an array with the label/unit id for each component (all_labels) and an array of dimension (num_all_samples, num_components, num_channels)."
      ]
    },
    {
      "cell_type": "code",
      "execution_count": null,
      "metadata": {
        "id": "AfBzp_6aF0lB"
      },
      "outputs": [],
      "source": [
        "pc1 = pc.get_projections(unit_id=1)\n",
        "print(f\"PC scores shape: {pc1.shape}\")\n",
        "all_labels, all_pcs = pc.get_all_projections()\n",
        "print(f\"All PC scores shape: {all_pcs.shape}\")\n",
        "\n"
      ]
    },
    {
      "cell_type": "markdown",
      "metadata": {
        "id": "treyntjpF0lC"
      },
      "source": [
        "- Plotting the PCA for units with high SNR for each channel\n",
        "    - **NOTE**: If you see distinct clusters in the PCA plots. Then you will likely see a distinct spike for that unit in the same channel in the average waveforms plots. "
      ]
    },
    {
      "cell_type": "code",
      "execution_count": null,
      "metadata": {
        "id": "y-rel3p4F0lC"
      },
      "outputs": [],
      "source": [
        "for channel_id in recording_preprocessed.get_channel_ids():\n",
        "    fig, ax = plt.subplots()\n",
        "    n = len(high_snr_units) + 1\n",
        "    colors = iter(cm.rainbow(np.linspace(0, 1, n)))\n",
        "    for i, unit_id in enumerate(high_snr_units):\n",
        "        comp = pc.get_projections(unit_id)\n",
        "        color = next(colors)\n",
        "        ax.scatter(comp[:, 0, int(channel_id)], comp[:, 1, int(channel_id)], color=color, label=unit_id)\n",
        "    ax.set_title(\"PCA for channel: {}\".format(channel_id))\n",
        "    plt.legend()\n",
        "    plt.show()\n",
        "    plt.close()"
      ]
    },
    {
      "cell_type": "markdown",
      "metadata": {
        "id": "EExFJ6U4F0lC"
      },
      "source": [
        "# Compute template metrics"
      ]
    },
    {
      "cell_type": "markdown",
      "metadata": {
        "id": "mYozwB42F0lC"
      },
      "source": [
        "- Template metrics, or extracellular features, such as peak to valley duration or full-width half maximum, are important to classify neurons into putative classes (excitatory - inhibitory). The `toolkit` allows one to compute several of these metrics:"
      ]
    },
    {
      "cell_type": "code",
      "execution_count": null,
      "metadata": {
        "id": "Lkwxl-QlF0lC"
      },
      "outputs": [],
      "source": [
        "template_metrics = st.calculate_template_metrics(we_spike_sorted, peak_sign=\"neg\")"
      ]
    },
    {
      "cell_type": "code",
      "execution_count": null,
      "metadata": {
        "id": "kXQMo_W3F0lC"
      },
      "outputs": [],
      "source": [
        "template_metrics\n"
      ]
    },
    {
      "cell_type": "markdown",
      "metadata": {
        "id": "jS3ZMbndF0lC"
      },
      "source": [
        "# Validation and Curation with Quality Metrics"
      ]
    },
    {
      "cell_type": "markdown",
      "metadata": {
        "id": "igiTlFlOF0lC"
      },
      "source": [
        "Quality metrics for the spike sorting output are very important to asses the spike sorting performance.\n",
        "The :code:`spikeinterface.toolkit.qualitymetrics` module implements several quality metrics\n",
        "to assess the goodness of sorted units. Among those, for example,\n",
        "are signal-to-noise ratio, ISI violation ratio, isolation distance, and many more.\n",
        "Theses metrics are built on top of WaveformExtractor class and return a dictionary with the unit ids as keys:\n",
        "\n"
      ]
    },
    {
      "cell_type": "code",
      "execution_count": null,
      "metadata": {
        "id": "r5-b24xAF0lC"
      },
      "outputs": [],
      "source": [
        "isi_violations = st.compute_isi_violations(we_spike_sorted, isi_threshold_ms=1.5)"
      ]
    },
    {
      "cell_type": "code",
      "execution_count": null,
      "metadata": {
        "id": "0V4kXfSYF0lC"
      },
      "outputs": [],
      "source": [
        "print(\"ISI Violation Rate: {}\".format(isi_violations[0]))\n"
      ]
    },
    {
      "cell_type": "code",
      "execution_count": null,
      "metadata": {
        "id": "BLwkEjLLF0lD"
      },
      "outputs": [],
      "source": [
        "plt.hist(isi_violations[1])"
      ]
    },
    {
      "cell_type": "raw",
      "metadata": {
        "id": "x01E40OqF0lD"
      },
      "source": [
        "print(\"ISI Violation Count: {}\".format(isi_violations_count))\n"
      ]
    },
    {
      "cell_type": "raw",
      "metadata": {
        "id": "nyr-2SU8F0lD"
      },
      "source": [
        "plt.hist(isi_violations_count.values())"
      ]
    },
    {
      "cell_type": "markdown",
      "metadata": {
        "id": "Yg5nDxRrF0lD"
      },
      "source": [
        "All theses quality metrics can be computed in one shot and returned as\n",
        "a :code:`pandas.Dataframe`\n",
        "\n"
      ]
    },
    {
      "cell_type": "raw",
      "metadata": {
        "id": "YfbqN_16F0lD"
      },
      "source": [
        "metrics = st.compute_quality_metrics(we_spike_sorted, waveform_principal_component=pc)"
      ]
    },
    {
      "cell_type": "code",
      "execution_count": null,
      "metadata": {
        "id": "L0LA3dqHF0lD"
      },
      "outputs": [],
      "source": [
        "metrics = st.compute_quality_metrics(we_spike_sorted)"
      ]
    },
    {
      "cell_type": "markdown",
      "metadata": {
        "id": "k-f-xMkrF0lD"
      },
      "source": [
        "- Each row is a Unit"
      ]
    },
    {
      "cell_type": "code",
      "execution_count": null,
      "metadata": {
        "id": "Czy7TQz2F0lD"
      },
      "outputs": [],
      "source": [
        "metrics"
      ]
    },
    {
      "cell_type": "markdown",
      "metadata": {
        "id": "taIPfb7GF0lD"
      },
      "source": [
        "Quality metrics can be also used to automatically curate the spike sorting\n",
        "output. For example, you can select sorted units with a SNR above a\n",
        "certain threshold:\n",
        "\n"
      ]
    },
    {
      "cell_type": "code",
      "execution_count": null,
      "metadata": {
        "scrolled": true,
        "id": "uHOe6wBHF0lD"
      },
      "outputs": [],
      "source": [
        "snr_thresh = 5\n",
        "isi_viol_thresh = 0.2"
      ]
    },
    {
      "cell_type": "code",
      "execution_count": null,
      "metadata": {
        "id": "4mBEWw9tF0lD"
      },
      "outputs": [],
      "source": [
        "our_query = f\"snr > {snr_thresh} & isi_violations_rate < {isi_viol_thresh}\"\n",
        "print(our_query)"
      ]
    },
    {
      "cell_type": "code",
      "execution_count": null,
      "metadata": {
        "id": "lz866OrIF0lD"
      },
      "outputs": [],
      "source": [
        "keep_units = metrics.query(our_query)\n",
        "keep_unit_ids = keep_units.index.values"
      ]
    },
    {
      "cell_type": "code",
      "execution_count": null,
      "metadata": {
        "id": "o0_6xmWTF0lE"
      },
      "outputs": [],
      "source": [
        "sorting_auto = spike_sorted_object.select_units(keep_unit_ids)\n",
        "print(f\"Number of units before curation: {len(spike_sorted_object.get_unit_ids())}\")\n",
        "print(f\"Number of units after curation: {len(sorting_auto.get_unit_ids())}\")"
      ]
    },
    {
      "cell_type": "markdown",
      "metadata": {
        "id": "HYqIJbDMF0lE"
      },
      "source": [
        "# Plotting Channels with Multiple Units"
      ]
    },
    {
      "cell_type": "markdown",
      "metadata": {
        "id": "tlijRVCaF0lE"
      },
      "source": [
        "## Compute unit maximum channel¶"
      ]
    },
    {
      "cell_type": "markdown",
      "metadata": {
        "id": "1410cBE0F0lE"
      },
      "source": [
        "- For each unit, calculating the channel with the highest the most extreme signal"
      ]
    },
    {
      "cell_type": "code",
      "execution_count": null,
      "metadata": {
        "id": "SBDbIbiFF0lE"
      },
      "outputs": [],
      "source": [
        "extremum_channels_ids = st.get_template_extremum_channel(we_spike_sorted, peak_sign='neg')\n",
        "print(extremum_channels_ids)"
      ]
    },
    {
      "cell_type": "code",
      "execution_count": null,
      "metadata": {
        "id": "jKWsOUKNF0lE"
      },
      "outputs": [],
      "source": [
        "extremum_channels_ids = st.get_template_extremum_channel(we_spike_sorted, peak_sign='pos')\n",
        "print(extremum_channels_ids)"
      ]
    },
    {
      "cell_type": "markdown",
      "metadata": {
        "id": "Hi5GMPgGF0lE"
      },
      "source": [
        "- Getting the channel that's the top channel for multiple units"
      ]
    },
    {
      "cell_type": "code",
      "execution_count": null,
      "metadata": {
        "id": "Thd3GNRVF0lE"
      },
      "outputs": [],
      "source": [
        "channel_to_units = defaultdict(dict)\n",
        "for k, v in extremum_channels_ids.items():\n",
        "    channel_to_units[v] = channel_to_units.get(v, []) + [k]"
      ]
    },
    {
      "cell_type": "code",
      "execution_count": null,
      "metadata": {
        "id": "U-eS2k6AF0lE"
      },
      "outputs": [],
      "source": [
        "channel_to_units"
      ]
    },
    {
      "cell_type": "code",
      "execution_count": null,
      "metadata": {
        "id": "sd-3svnRF0lE"
      },
      "outputs": [],
      "source": [
        "channel_to_multiple_units = {k:v for k, v in channel_to_units.items() if len(v) >=2}"
      ]
    },
    {
      "cell_type": "code",
      "execution_count": null,
      "metadata": {
        "id": "zJaWJpAeF0lE"
      },
      "outputs": [],
      "source": [
        "channel_to_multiple_units"
      ]
    },
    {
      "cell_type": "markdown",
      "metadata": {
        "id": "cFEe5aKnF0lF"
      },
      "source": [
        "- PCA Plots"
      ]
    },
    {
      "cell_type": "code",
      "execution_count": null,
      "metadata": {
        "scrolled": true,
        "id": "LVQCziFtF0lF"
      },
      "outputs": [],
      "source": [
        "for channel, multiple_units in channel_to_multiple_units.items():\n",
        "\n",
        "    n = len(multiple_units) + 1\n",
        "    colors = iter(cm.rainbow(np.linspace(0, 1, n)))\n",
        "\n",
        "    fig, ax = plt.subplots()\n",
        "    for i, unit_id in enumerate(multiple_units):\n",
        "        comp = pc.get_projections(unit_id)\n",
        "#         print(comp.shape)\n",
        "        color = next(colors)\n",
        "        ax.scatter(comp[:, 0, int(channel)], comp[:, 1, int(channel)], color=color, label=unit_id)\n",
        "    ax.legend()\n",
        "#     print(channel)\n",
        "    ax.set_title(\"PCA Plot for Channel: {}\".format(str(channel)))\n",
        "    plt.show()\n",
        "    plt.close()"
      ]
    },
    {
      "cell_type": "markdown",
      "metadata": {
        "id": "WTZX6dVPF0lF"
      },
      "source": [
        "# Looking over the waveforms for the different unit groups"
      ]
    },
    {
      "cell_type": "code",
      "execution_count": null,
      "metadata": {
        "id": "YDGBXXqJF0lF"
      },
      "outputs": [],
      "source": [
        "for channel, multiple_units in channel_to_multiple_units.items():\n",
        "    print(\"Channel: {}\".format(channel))\n",
        "    for unit in multiple_units:\n",
        "        print(\"Unit: {}\".format(unit))\n",
        "        sw.plot_unit_templates(we_spike_sorted, channel_ids=recording_preprocessed.channel_ids, unit_ids=[unit], plot_templates=True, plot_channels=True)\n",
        "        plt.show()\n",
        "        plt.close()"
      ]
    },
    {
      "cell_type": "code",
      "execution_count": null,
      "metadata": {
        "id": "InQOfHJGF0lF"
      },
      "outputs": [],
      "source": [
        "for channel, multiple_units in channel_to_multiple_units.items():\n",
        "    print(\"Channel: {}\".format(channel))\n",
        "    for unit in multiple_units:\n",
        "        print(\"Unit: {}\".format(unit))\n",
        "        w = sw.plot_unit_summary(we_spike_sorted, unit_id=unit)\n",
        "        plt.show()\n",
        "        plt.close()"
      ]
    },
    {
      "cell_type": "code",
      "execution_count": null,
      "metadata": {
        "id": "jCcUG8tMF0lF"
      },
      "outputs": [],
      "source": []
    },
    {
      "cell_type": "markdown",
      "metadata": {
        "id": "fvtUQ8qNF0lF"
      },
      "source": [
        "# Supplementary Visualization and Quality Metrics"
      ]
    },
    {
      "cell_type": "code",
      "execution_count": null,
      "metadata": {
        "id": "Ld3J0T7BF0lF"
      },
      "outputs": [],
      "source": [
        "raise ValueError(\"Cells below are other options for visualizations and quality metrics. They take time and are still being tested, so running the rest of the notebook is not necessary. They are for those that want to look further into the recording data and the the postprocessing steps.\")"
      ]
    },
    {
      "cell_type": "markdown",
      "metadata": {
        "id": "XkDZ4NfpF0lF"
      },
      "source": [
        "## Spike Amplitudes"
      ]
    },
    {
      "cell_type": "markdown",
      "metadata": {
        "id": "kjpa8vkEF0lF"
      },
      "source": [
        "- Spike amplitudes can be computed with the `get_spike_amplitudes` function.\n"
      ]
    },
    {
      "cell_type": "code",
      "execution_count": null,
      "metadata": {
        "id": "xgrQWtLIF0lF"
      },
      "outputs": [],
      "source": [
        "amplitudes = st.get_spike_amplitudes(we_spike_sorted, outputs=\"concatenated\", progress_bar=True)"
      ]
    },
    {
      "cell_type": "code",
      "execution_count": null,
      "metadata": {
        "id": "8yl_OQoxF0lF"
      },
      "outputs": [],
      "source": [
        "amplitudes[0].shape"
      ]
    },
    {
      "cell_type": "code",
      "execution_count": null,
      "metadata": {
        "id": "DJVZYSgCF0lG"
      },
      "outputs": [],
      "source": [
        "sw.plot_amplitudes_distribution(we_spike_sorted, unit_ids=high_snr_units)"
      ]
    },
    {
      "cell_type": "code",
      "execution_count": null,
      "metadata": {
        "id": "WuSEnCl-F0lG"
      },
      "outputs": [],
      "source": [
        "sw.plot_amplitudes_timeseries(we_spike_sorted, unit_ids=high_snr_units[:1])"
      ]
    },
    {
      "cell_type": "markdown",
      "metadata": {
        "id": "pZpgmjjjF0lG"
      },
      "source": [
        "By default, all amplitudes are concatenated in one array.\n",
        "\n",
        "The correspinding spike times and labels can be easily retrieved as:"
      ]
    },
    {
      "cell_type": "code",
      "execution_count": null,
      "metadata": {
        "id": "px8EhP_4F0lG"
      },
      "outputs": [],
      "source": [
        "all_spike_times, all_spike_labels = spike_sorted_object.get_all_spike_trains()[0]\n"
      ]
    },
    {
      "cell_type": "markdown",
      "metadata": {
        "id": "GXtbfuxQF0lG"
      },
      "source": [
        "- The [0] index is to select the first segment. In case of multiple segments each element will correspond to a different segment and will contain spike times and labels for that segment.\n"
      ]
    },
    {
      "cell_type": "code",
      "execution_count": null,
      "metadata": {
        "id": "sYeOB8jqF0lG"
      },
      "outputs": [],
      "source": []
    },
    {
      "cell_type": "markdown",
      "metadata": {
        "id": "lG58IGg-F0lG"
      },
      "source": [
        "## ISI Violations"
      ]
    },
    {
      "cell_type": "markdown",
      "metadata": {
        "id": "pykkeYl9F0lG"
      },
      "source": [
        "- https://github.com/SpikeInterface/spikeinterface/blob/master/spikeinterface/toolkit/qualitymetrics/misc_metrics.py\n",
        "- https://numpy.org/doc/stable/reference/generated/numpy.diff.html"
      ]
    },
    {
      "cell_type": "markdown",
      "metadata": {
        "id": "XhjevWOuF0lG"
      },
      "source": [
        "- The code that's used for the ISI Calcuations which suggest that only the differences between neighbors are being calculated"
      ]
    },
    {
      "cell_type": "code",
      "execution_count": null,
      "metadata": {
        "id": "eE48VuKCF0lG"
      },
      "outputs": [],
      "source": [
        "\n",
        "# all units converted to seconds\n",
        "for unit_id in unit_ids:\n",
        "    num_violations = 0\n",
        "    num_spikes = 0\n",
        "    for segment_index in range(num_segs):\n",
        "        spike_train = sorting.get_unit_spike_train(unit_id=unit_id, segment_index=segment_index)\n",
        "        isis = np.diff(spike_train)\n",
        "        num_spikes += len(spike_train)\n",
        "        num_violations += np.sum(isis < isi_threshold_samples)\n",
        "    violation_time = 2 * num_spikes * (isi_threshold_s - min_isi_s)"
      ]
    },
    {
      "cell_type": "markdown",
      "metadata": {
        "id": "mvMuSnIaF0lG"
      },
      "source": [
        "- TODO: Install pyarrow"
      ]
    },
    {
      "cell_type": "raw",
      "metadata": {
        "scrolled": true,
        "id": "RkuR_d20F0lG"
      },
      "source": [
        "metrics.to_parquet(\"./proc/spike_sorted4_output/spike_sorted_quality_metrics.parquet\")"
      ]
    },
    {
      "cell_type": "raw",
      "metadata": {
        "id": "bGLRWbEGF0lG"
      },
      "source": [
        "spike_sorted_quality_metrics_df = pd.read_parquet(\"./proc/spike_sorted4_output/spike_sorted_quality_metrics.parquet\")"
      ]
    },
    {
      "cell_type": "code",
      "execution_count": null,
      "metadata": {
        "scrolled": false,
        "id": "vBIAc7rFF0lH"
      },
      "outputs": [],
      "source": [
        "spike_sorted_quality_metrics_df"
      ]
    },
    {
      "cell_type": "markdown",
      "metadata": {
        "id": "wdttPjiTF0lH"
      },
      "source": [
        "## Filtering based on metrics"
      ]
    },
    {
      "cell_type": "markdown",
      "metadata": {
        "id": "VqEI_l1eF0lH"
      },
      "source": [
        "- Focusing on:\n",
        "    - snr, isi_violations_rate, isolation_distance"
      ]
    },
    {
      "cell_type": "code",
      "execution_count": null,
      "metadata": {
        "id": "VNAwsqnGF0lH"
      },
      "outputs": [],
      "source": [
        "good_units = spike_sorted_quality_metrics_df[(spike_sorted_quality_metrics_df[\"snr\"] >= 4) & (spike_sorted_quality_metrics_df[\"isi_violations_rate\"] < 0.01)]"
      ]
    },
    {
      "cell_type": "code",
      "execution_count": null,
      "metadata": {
        "id": "usMxzpErF0lH"
      },
      "outputs": [],
      "source": [
        "adequate_units = spike_sorted_quality_metrics_df[(spike_sorted_quality_metrics_df[\"snr\"] >= 4) & (spike_sorted_quality_metrics_df[\"isi_violations_rate\"] < 0.05) & (spike_sorted_quality_metrics_df[\"isi_violations_rate\"] > 0.01)]"
      ]
    },
    {
      "cell_type": "code",
      "execution_count": null,
      "metadata": {
        "id": "pXMMOVhMF0lH"
      },
      "outputs": [],
      "source": [
        "good_units"
      ]
    },
    {
      "cell_type": "code",
      "execution_count": null,
      "metadata": {
        "id": "Fu2-CqvRF0lH"
      },
      "outputs": [],
      "source": [
        "adequate_units"
      ]
    },
    {
      "cell_type": "markdown",
      "metadata": {
        "id": "d-FTNE_YF0lH"
      },
      "source": [
        "- Looking over the unit summaries of units that match our criteria"
      ]
    },
    {
      "cell_type": "code",
      "execution_count": null,
      "metadata": {
        "scrolled": true,
        "id": "24G0JHzQF0lH"
      },
      "outputs": [],
      "source": [
        "for index, unit in good_units.iterrows():\n",
        "    w = sw.plot_unit_summary(we_spike_sorted, unit_id=index)"
      ]
    },
    {
      "cell_type": "code",
      "execution_count": null,
      "metadata": {
        "id": "G3bomitfF0lH"
      },
      "outputs": [],
      "source": []
    },
    {
      "cell_type": "markdown",
      "metadata": {
        "id": "7ScL0TLXF0lH"
      },
      "source": [
        "## 3D Plots for PCA"
      ]
    },
    {
      "cell_type": "code",
      "execution_count": null,
      "metadata": {
        "id": "hID0m1PuF0lH"
      },
      "outputs": [],
      "source": [
        "from mpl_toolkits import mplot3d"
      ]
    },
    {
      "cell_type": "code",
      "execution_count": null,
      "metadata": {
        "scrolled": true,
        "id": "A_9CQI9MF0lH"
      },
      "outputs": [],
      "source": [
        "fig = plt.figure()\n",
        "ax = plt.axes(projection='3d')\n",
        "ax = plt.axes(projection='3d')"
      ]
    },
    {
      "cell_type": "code",
      "execution_count": null,
      "metadata": {
        "scrolled": false,
        "id": "gQJrgCGsF0lH"
      },
      "outputs": [],
      "source": [
        "for channel, multiple_units in channel_to_multiple_units.items():\n",
        "\n",
        "    n = len(multiple_units) + 1\n",
        "    colors = iter(cm.rainbow(np.linspace(0, 1, n)))\n",
        "\n",
        "    fig = plt.figure()\n",
        "    ax = plt.axes(projection='3d')\n",
        "    for i, unit_id in enumerate(multiple_units):\n",
        "        comp = pc.get_components(unit_id)\n",
        "#         print(comp.shape)\n",
        "        color = next(colors)\n",
        "#         ax.scatter(comp[:, 0, 8], comp[:, 1, 8], color=color, label=unit_id)\n",
        "        ax.scatter3D(comp[:, 0, int(channel)], comp[:, 1, int(channel)], comp[:, 2, int(channel)], c=color, cmap='Greens', label=unit_id);\n",
        "        \n",
        "    # make simple, bare axis lines through space:\n",
        "    xAxisLine = ((min(comp[:, 0, int(channel)]), max(comp[:, 0, int(channel)])), (0, 0), (0,0))\n",
        "    ax.plot(xAxisLine[0], xAxisLine[1], xAxisLine[2], 'r')\n",
        "    yAxisLine = ((0, 0), (min(comp[:, 1, int(channel)]), max(comp[:, 1, int(channel)])), (0,0))\n",
        "    ax.plot(yAxisLine[0], yAxisLine[1], yAxisLine[2], 'r')\n",
        "    zAxisLine = ((0, 0), (0,0), (min(comp[:, 2, int(channel)]), max(comp[:, 2, int(channel)])))\n",
        "    ax.plot(zAxisLine[0], zAxisLine[1], zAxisLine[2], 'r')\n",
        "\n",
        "    # label the axes\n",
        "    ax.set_xlabel(\"PC1\")\n",
        "    ax.set_ylabel(\"PC2\")\n",
        "    ax.set_zlabel(\"PC3\")\n",
        "    \n",
        "    ax.legend()\n",
        "#     print(channel)\n",
        "    ax.set_title(\"PCA Plot for Channel: {}\".format(str(channel)))\n",
        "    plt.show()\n",
        "    plt.close()"
      ]
    },
    {
      "cell_type": "code",
      "source": [],
      "metadata": {
        "id": "kd-GfXtKMlfw"
      },
      "execution_count": null,
      "outputs": []
    }
  ],
  "metadata": {
    "colab": {
      "provenance": []
    },
    "kernelspec": {
      "display_name": "Python 3 (ipykernel)",
      "language": "python",
      "name": "python3"
    },
    "language_info": {
      "codemirror_mode": {
        "name": "ipython",
        "version": 3
      },
      "file_extension": ".py",
      "mimetype": "text/x-python",
      "name": "python",
      "nbconvert_exporter": "python",
      "pygments_lexer": "ipython3",
      "version": "3.9.16"
    },
    "vscode": {
      "interpreter": {
        "hash": "916dbcbb3f70747c44a77c7bcd40155683ae19c65e1c03b4aa3499c5328201f1"
      }
    },
    "widgets": {
      "application/vnd.jupyter.widget-state+json": {
        "28e7cc42ef5d495a94407fc9672e3e57": {
          "model_module": "@jupyter-widgets/controls",
          "model_name": "HBoxModel",
          "model_module_version": "1.5.0",
          "state": {
            "_dom_classes": [],
            "_model_module": "@jupyter-widgets/controls",
            "_model_module_version": "1.5.0",
            "_model_name": "HBoxModel",
            "_view_count": null,
            "_view_module": "@jupyter-widgets/controls",
            "_view_module_version": "1.5.0",
            "_view_name": "HBoxView",
            "box_style": "",
            "children": [
              "IPY_MODEL_f7f2930d1dd04fa2987c5238a793a510",
              "IPY_MODEL_d1274cbcae714c258f8bca198e542284",
              "IPY_MODEL_4641ffced8a641d992baadef7e479e3d"
            ],
            "layout": "IPY_MODEL_86411350843f4ea89fd94b0bf12a39ab"
          }
        },
        "f7f2930d1dd04fa2987c5238a793a510": {
          "model_module": "@jupyter-widgets/controls",
          "model_name": "HTMLModel",
          "model_module_version": "1.5.0",
          "state": {
            "_dom_classes": [],
            "_model_module": "@jupyter-widgets/controls",
            "_model_module_version": "1.5.0",
            "_model_name": "HTMLModel",
            "_view_count": null,
            "_view_module": "@jupyter-widgets/controls",
            "_view_module_version": "1.5.0",
            "_view_name": "HTMLView",
            "description": "",
            "description_tooltip": null,
            "layout": "IPY_MODEL_b8e04f58794c460480c03e9e9f983381",
            "placeholder": "​",
            "style": "IPY_MODEL_ff5aca93c3e14cc790340d6a2bab7c7a",
            "value": "write_binary_recording: 100%"
          }
        },
        "d1274cbcae714c258f8bca198e542284": {
          "model_module": "@jupyter-widgets/controls",
          "model_name": "FloatProgressModel",
          "model_module_version": "1.5.0",
          "state": {
            "_dom_classes": [],
            "_model_module": "@jupyter-widgets/controls",
            "_model_module_version": "1.5.0",
            "_model_name": "FloatProgressModel",
            "_view_count": null,
            "_view_module": "@jupyter-widgets/controls",
            "_view_module_version": "1.5.0",
            "_view_name": "ProgressView",
            "bar_style": "success",
            "description": "",
            "description_tooltip": null,
            "layout": "IPY_MODEL_018e4f3e47474810a32e1f4021d404f1",
            "max": 1201,
            "min": 0,
            "orientation": "horizontal",
            "style": "IPY_MODEL_a358b634505647caa4f34bf9650aa23a",
            "value": 1201
          }
        },
        "4641ffced8a641d992baadef7e479e3d": {
          "model_module": "@jupyter-widgets/controls",
          "model_name": "HTMLModel",
          "model_module_version": "1.5.0",
          "state": {
            "_dom_classes": [],
            "_model_module": "@jupyter-widgets/controls",
            "_model_module_version": "1.5.0",
            "_model_name": "HTMLModel",
            "_view_count": null,
            "_view_module": "@jupyter-widgets/controls",
            "_view_module_version": "1.5.0",
            "_view_name": "HTMLView",
            "description": "",
            "description_tooltip": null,
            "layout": "IPY_MODEL_b837aabc3d864cf8a166ce4df0cb999f",
            "placeholder": "​",
            "style": "IPY_MODEL_0d22f823174c4699bc95e82262a50a16",
            "value": " 1201/1201 [00:49&lt;00:00, 22.82it/s]"
          }
        },
        "86411350843f4ea89fd94b0bf12a39ab": {
          "model_module": "@jupyter-widgets/base",
          "model_name": "LayoutModel",
          "model_module_version": "1.2.0",
          "state": {
            "_model_module": "@jupyter-widgets/base",
            "_model_module_version": "1.2.0",
            "_model_name": "LayoutModel",
            "_view_count": null,
            "_view_module": "@jupyter-widgets/base",
            "_view_module_version": "1.2.0",
            "_view_name": "LayoutView",
            "align_content": null,
            "align_items": null,
            "align_self": null,
            "border": null,
            "bottom": null,
            "display": null,
            "flex": null,
            "flex_flow": null,
            "grid_area": null,
            "grid_auto_columns": null,
            "grid_auto_flow": null,
            "grid_auto_rows": null,
            "grid_column": null,
            "grid_gap": null,
            "grid_row": null,
            "grid_template_areas": null,
            "grid_template_columns": null,
            "grid_template_rows": null,
            "height": null,
            "justify_content": null,
            "justify_items": null,
            "left": null,
            "margin": null,
            "max_height": null,
            "max_width": null,
            "min_height": null,
            "min_width": null,
            "object_fit": null,
            "object_position": null,
            "order": null,
            "overflow": null,
            "overflow_x": null,
            "overflow_y": null,
            "padding": null,
            "right": null,
            "top": null,
            "visibility": null,
            "width": null
          }
        },
        "b8e04f58794c460480c03e9e9f983381": {
          "model_module": "@jupyter-widgets/base",
          "model_name": "LayoutModel",
          "model_module_version": "1.2.0",
          "state": {
            "_model_module": "@jupyter-widgets/base",
            "_model_module_version": "1.2.0",
            "_model_name": "LayoutModel",
            "_view_count": null,
            "_view_module": "@jupyter-widgets/base",
            "_view_module_version": "1.2.0",
            "_view_name": "LayoutView",
            "align_content": null,
            "align_items": null,
            "align_self": null,
            "border": null,
            "bottom": null,
            "display": null,
            "flex": null,
            "flex_flow": null,
            "grid_area": null,
            "grid_auto_columns": null,
            "grid_auto_flow": null,
            "grid_auto_rows": null,
            "grid_column": null,
            "grid_gap": null,
            "grid_row": null,
            "grid_template_areas": null,
            "grid_template_columns": null,
            "grid_template_rows": null,
            "height": null,
            "justify_content": null,
            "justify_items": null,
            "left": null,
            "margin": null,
            "max_height": null,
            "max_width": null,
            "min_height": null,
            "min_width": null,
            "object_fit": null,
            "object_position": null,
            "order": null,
            "overflow": null,
            "overflow_x": null,
            "overflow_y": null,
            "padding": null,
            "right": null,
            "top": null,
            "visibility": null,
            "width": null
          }
        },
        "ff5aca93c3e14cc790340d6a2bab7c7a": {
          "model_module": "@jupyter-widgets/controls",
          "model_name": "DescriptionStyleModel",
          "model_module_version": "1.5.0",
          "state": {
            "_model_module": "@jupyter-widgets/controls",
            "_model_module_version": "1.5.0",
            "_model_name": "DescriptionStyleModel",
            "_view_count": null,
            "_view_module": "@jupyter-widgets/base",
            "_view_module_version": "1.2.0",
            "_view_name": "StyleView",
            "description_width": ""
          }
        },
        "018e4f3e47474810a32e1f4021d404f1": {
          "model_module": "@jupyter-widgets/base",
          "model_name": "LayoutModel",
          "model_module_version": "1.2.0",
          "state": {
            "_model_module": "@jupyter-widgets/base",
            "_model_module_version": "1.2.0",
            "_model_name": "LayoutModel",
            "_view_count": null,
            "_view_module": "@jupyter-widgets/base",
            "_view_module_version": "1.2.0",
            "_view_name": "LayoutView",
            "align_content": null,
            "align_items": null,
            "align_self": null,
            "border": null,
            "bottom": null,
            "display": null,
            "flex": null,
            "flex_flow": null,
            "grid_area": null,
            "grid_auto_columns": null,
            "grid_auto_flow": null,
            "grid_auto_rows": null,
            "grid_column": null,
            "grid_gap": null,
            "grid_row": null,
            "grid_template_areas": null,
            "grid_template_columns": null,
            "grid_template_rows": null,
            "height": null,
            "justify_content": null,
            "justify_items": null,
            "left": null,
            "margin": null,
            "max_height": null,
            "max_width": null,
            "min_height": null,
            "min_width": null,
            "object_fit": null,
            "object_position": null,
            "order": null,
            "overflow": null,
            "overflow_x": null,
            "overflow_y": null,
            "padding": null,
            "right": null,
            "top": null,
            "visibility": null,
            "width": null
          }
        },
        "a358b634505647caa4f34bf9650aa23a": {
          "model_module": "@jupyter-widgets/controls",
          "model_name": "ProgressStyleModel",
          "model_module_version": "1.5.0",
          "state": {
            "_model_module": "@jupyter-widgets/controls",
            "_model_module_version": "1.5.0",
            "_model_name": "ProgressStyleModel",
            "_view_count": null,
            "_view_module": "@jupyter-widgets/base",
            "_view_module_version": "1.2.0",
            "_view_name": "StyleView",
            "bar_color": null,
            "description_width": ""
          }
        },
        "b837aabc3d864cf8a166ce4df0cb999f": {
          "model_module": "@jupyter-widgets/base",
          "model_name": "LayoutModel",
          "model_module_version": "1.2.0",
          "state": {
            "_model_module": "@jupyter-widgets/base",
            "_model_module_version": "1.2.0",
            "_model_name": "LayoutModel",
            "_view_count": null,
            "_view_module": "@jupyter-widgets/base",
            "_view_module_version": "1.2.0",
            "_view_name": "LayoutView",
            "align_content": null,
            "align_items": null,
            "align_self": null,
            "border": null,
            "bottom": null,
            "display": null,
            "flex": null,
            "flex_flow": null,
            "grid_area": null,
            "grid_auto_columns": null,
            "grid_auto_flow": null,
            "grid_auto_rows": null,
            "grid_column": null,
            "grid_gap": null,
            "grid_row": null,
            "grid_template_areas": null,
            "grid_template_columns": null,
            "grid_template_rows": null,
            "height": null,
            "justify_content": null,
            "justify_items": null,
            "left": null,
            "margin": null,
            "max_height": null,
            "max_width": null,
            "min_height": null,
            "min_width": null,
            "object_fit": null,
            "object_position": null,
            "order": null,
            "overflow": null,
            "overflow_x": null,
            "overflow_y": null,
            "padding": null,
            "right": null,
            "top": null,
            "visibility": null,
            "width": null
          }
        },
        "0d22f823174c4699bc95e82262a50a16": {
          "model_module": "@jupyter-widgets/controls",
          "model_name": "DescriptionStyleModel",
          "model_module_version": "1.5.0",
          "state": {
            "_model_module": "@jupyter-widgets/controls",
            "_model_module_version": "1.5.0",
            "_model_name": "DescriptionStyleModel",
            "_view_count": null,
            "_view_module": "@jupyter-widgets/base",
            "_view_module_version": "1.2.0",
            "_view_name": "StyleView",
            "description_width": ""
          }
        },
        "c70f4a7fd4024ce986d569bbb185a06c": {
          "model_module": "@jupyter-widgets/controls",
          "model_name": "HBoxModel",
          "model_module_version": "1.5.0",
          "state": {
            "_dom_classes": [],
            "_model_module": "@jupyter-widgets/controls",
            "_model_module_version": "1.5.0",
            "_model_name": "HBoxModel",
            "_view_count": null,
            "_view_module": "@jupyter-widgets/controls",
            "_view_module_version": "1.5.0",
            "_view_name": "HBoxView",
            "box_style": "",
            "children": [
              "IPY_MODEL_6fa717fee4444de7a808d764b359a4dd",
              "IPY_MODEL_4f6eab267bf44ee89ef2775a7589ca1b",
              "IPY_MODEL_f6d6e72248cc4dd18243e61774662aeb"
            ],
            "layout": "IPY_MODEL_2895cfa08a864883947bbe70b13770b3"
          }
        },
        "6fa717fee4444de7a808d764b359a4dd": {
          "model_module": "@jupyter-widgets/controls",
          "model_name": "HTMLModel",
          "model_module_version": "1.5.0",
          "state": {
            "_dom_classes": [],
            "_model_module": "@jupyter-widgets/controls",
            "_model_module_version": "1.5.0",
            "_model_name": "HTMLModel",
            "_view_count": null,
            "_view_module": "@jupyter-widgets/controls",
            "_view_module_version": "1.5.0",
            "_view_name": "HTMLView",
            "description": "",
            "description_tooltip": null,
            "layout": "IPY_MODEL_d9c1fb78065a4278ab025abc09df581f",
            "placeholder": "​",
            "style": "IPY_MODEL_ec5d029e61cd4a558f7b0307c5103c17",
            "value": "write_binary_recording: 100%"
          }
        },
        "4f6eab267bf44ee89ef2775a7589ca1b": {
          "model_module": "@jupyter-widgets/controls",
          "model_name": "FloatProgressModel",
          "model_module_version": "1.5.0",
          "state": {
            "_dom_classes": [],
            "_model_module": "@jupyter-widgets/controls",
            "_model_module_version": "1.5.0",
            "_model_name": "FloatProgressModel",
            "_view_count": null,
            "_view_module": "@jupyter-widgets/controls",
            "_view_module_version": "1.5.0",
            "_view_name": "ProgressView",
            "bar_style": "success",
            "description": "",
            "description_tooltip": null,
            "layout": "IPY_MODEL_fe6b7be04a5548aab1c6695cf52dd98f",
            "max": 1201,
            "min": 0,
            "orientation": "horizontal",
            "style": "IPY_MODEL_87eacc10b8ca4d859534c9e7470fd909",
            "value": 1201
          }
        },
        "f6d6e72248cc4dd18243e61774662aeb": {
          "model_module": "@jupyter-widgets/controls",
          "model_name": "HTMLModel",
          "model_module_version": "1.5.0",
          "state": {
            "_dom_classes": [],
            "_model_module": "@jupyter-widgets/controls",
            "_model_module_version": "1.5.0",
            "_model_name": "HTMLModel",
            "_view_count": null,
            "_view_module": "@jupyter-widgets/controls",
            "_view_module_version": "1.5.0",
            "_view_name": "HTMLView",
            "description": "",
            "description_tooltip": null,
            "layout": "IPY_MODEL_d764cb4639c74562822ebbeb8a5c6eae",
            "placeholder": "​",
            "style": "IPY_MODEL_a06a7e3dd9ac488c80cbc72b0b4eaf94",
            "value": " 1201/1201 [01:26&lt;00:00, 12.78it/s]"
          }
        },
        "2895cfa08a864883947bbe70b13770b3": {
          "model_module": "@jupyter-widgets/base",
          "model_name": "LayoutModel",
          "model_module_version": "1.2.0",
          "state": {
            "_model_module": "@jupyter-widgets/base",
            "_model_module_version": "1.2.0",
            "_model_name": "LayoutModel",
            "_view_count": null,
            "_view_module": "@jupyter-widgets/base",
            "_view_module_version": "1.2.0",
            "_view_name": "LayoutView",
            "align_content": null,
            "align_items": null,
            "align_self": null,
            "border": null,
            "bottom": null,
            "display": null,
            "flex": null,
            "flex_flow": null,
            "grid_area": null,
            "grid_auto_columns": null,
            "grid_auto_flow": null,
            "grid_auto_rows": null,
            "grid_column": null,
            "grid_gap": null,
            "grid_row": null,
            "grid_template_areas": null,
            "grid_template_columns": null,
            "grid_template_rows": null,
            "height": null,
            "justify_content": null,
            "justify_items": null,
            "left": null,
            "margin": null,
            "max_height": null,
            "max_width": null,
            "min_height": null,
            "min_width": null,
            "object_fit": null,
            "object_position": null,
            "order": null,
            "overflow": null,
            "overflow_x": null,
            "overflow_y": null,
            "padding": null,
            "right": null,
            "top": null,
            "visibility": null,
            "width": null
          }
        },
        "d9c1fb78065a4278ab025abc09df581f": {
          "model_module": "@jupyter-widgets/base",
          "model_name": "LayoutModel",
          "model_module_version": "1.2.0",
          "state": {
            "_model_module": "@jupyter-widgets/base",
            "_model_module_version": "1.2.0",
            "_model_name": "LayoutModel",
            "_view_count": null,
            "_view_module": "@jupyter-widgets/base",
            "_view_module_version": "1.2.0",
            "_view_name": "LayoutView",
            "align_content": null,
            "align_items": null,
            "align_self": null,
            "border": null,
            "bottom": null,
            "display": null,
            "flex": null,
            "flex_flow": null,
            "grid_area": null,
            "grid_auto_columns": null,
            "grid_auto_flow": null,
            "grid_auto_rows": null,
            "grid_column": null,
            "grid_gap": null,
            "grid_row": null,
            "grid_template_areas": null,
            "grid_template_columns": null,
            "grid_template_rows": null,
            "height": null,
            "justify_content": null,
            "justify_items": null,
            "left": null,
            "margin": null,
            "max_height": null,
            "max_width": null,
            "min_height": null,
            "min_width": null,
            "object_fit": null,
            "object_position": null,
            "order": null,
            "overflow": null,
            "overflow_x": null,
            "overflow_y": null,
            "padding": null,
            "right": null,
            "top": null,
            "visibility": null,
            "width": null
          }
        },
        "ec5d029e61cd4a558f7b0307c5103c17": {
          "model_module": "@jupyter-widgets/controls",
          "model_name": "DescriptionStyleModel",
          "model_module_version": "1.5.0",
          "state": {
            "_model_module": "@jupyter-widgets/controls",
            "_model_module_version": "1.5.0",
            "_model_name": "DescriptionStyleModel",
            "_view_count": null,
            "_view_module": "@jupyter-widgets/base",
            "_view_module_version": "1.2.0",
            "_view_name": "StyleView",
            "description_width": ""
          }
        },
        "fe6b7be04a5548aab1c6695cf52dd98f": {
          "model_module": "@jupyter-widgets/base",
          "model_name": "LayoutModel",
          "model_module_version": "1.2.0",
          "state": {
            "_model_module": "@jupyter-widgets/base",
            "_model_module_version": "1.2.0",
            "_model_name": "LayoutModel",
            "_view_count": null,
            "_view_module": "@jupyter-widgets/base",
            "_view_module_version": "1.2.0",
            "_view_name": "LayoutView",
            "align_content": null,
            "align_items": null,
            "align_self": null,
            "border": null,
            "bottom": null,
            "display": null,
            "flex": null,
            "flex_flow": null,
            "grid_area": null,
            "grid_auto_columns": null,
            "grid_auto_flow": null,
            "grid_auto_rows": null,
            "grid_column": null,
            "grid_gap": null,
            "grid_row": null,
            "grid_template_areas": null,
            "grid_template_columns": null,
            "grid_template_rows": null,
            "height": null,
            "justify_content": null,
            "justify_items": null,
            "left": null,
            "margin": null,
            "max_height": null,
            "max_width": null,
            "min_height": null,
            "min_width": null,
            "object_fit": null,
            "object_position": null,
            "order": null,
            "overflow": null,
            "overflow_x": null,
            "overflow_y": null,
            "padding": null,
            "right": null,
            "top": null,
            "visibility": null,
            "width": null
          }
        },
        "87eacc10b8ca4d859534c9e7470fd909": {
          "model_module": "@jupyter-widgets/controls",
          "model_name": "ProgressStyleModel",
          "model_module_version": "1.5.0",
          "state": {
            "_model_module": "@jupyter-widgets/controls",
            "_model_module_version": "1.5.0",
            "_model_name": "ProgressStyleModel",
            "_view_count": null,
            "_view_module": "@jupyter-widgets/base",
            "_view_module_version": "1.2.0",
            "_view_name": "StyleView",
            "bar_color": null,
            "description_width": ""
          }
        },
        "d764cb4639c74562822ebbeb8a5c6eae": {
          "model_module": "@jupyter-widgets/base",
          "model_name": "LayoutModel",
          "model_module_version": "1.2.0",
          "state": {
            "_model_module": "@jupyter-widgets/base",
            "_model_module_version": "1.2.0",
            "_model_name": "LayoutModel",
            "_view_count": null,
            "_view_module": "@jupyter-widgets/base",
            "_view_module_version": "1.2.0",
            "_view_name": "LayoutView",
            "align_content": null,
            "align_items": null,
            "align_self": null,
            "border": null,
            "bottom": null,
            "display": null,
            "flex": null,
            "flex_flow": null,
            "grid_area": null,
            "grid_auto_columns": null,
            "grid_auto_flow": null,
            "grid_auto_rows": null,
            "grid_column": null,
            "grid_gap": null,
            "grid_row": null,
            "grid_template_areas": null,
            "grid_template_columns": null,
            "grid_template_rows": null,
            "height": null,
            "justify_content": null,
            "justify_items": null,
            "left": null,
            "margin": null,
            "max_height": null,
            "max_width": null,
            "min_height": null,
            "min_width": null,
            "object_fit": null,
            "object_position": null,
            "order": null,
            "overflow": null,
            "overflow_x": null,
            "overflow_y": null,
            "padding": null,
            "right": null,
            "top": null,
            "visibility": null,
            "width": null
          }
        },
        "a06a7e3dd9ac488c80cbc72b0b4eaf94": {
          "model_module": "@jupyter-widgets/controls",
          "model_name": "DescriptionStyleModel",
          "model_module_version": "1.5.0",
          "state": {
            "_model_module": "@jupyter-widgets/controls",
            "_model_module_version": "1.5.0",
            "_model_name": "DescriptionStyleModel",
            "_view_count": null,
            "_view_module": "@jupyter-widgets/base",
            "_view_module_version": "1.2.0",
            "_view_name": "StyleView",
            "description_width": ""
          }
        }
      }
    }
  },
  "nbformat": 4,
  "nbformat_minor": 0
}